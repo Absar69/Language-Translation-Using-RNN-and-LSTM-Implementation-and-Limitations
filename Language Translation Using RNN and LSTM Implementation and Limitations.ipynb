{
 "cells": [
  {
   "cell_type": "code",
   "execution_count": null,
   "id": "56e439ec-22f3-4465-9a1f-ba2001b90fb8",
   "metadata": {
    "colab": {
     "base_uri": "https://localhost:8080/"
    },
    "id": "56e439ec-22f3-4465-9a1f-ba2001b90fb8",
    "outputId": "d5435994-c547-4efd-c162-0a4f25215970"
   },
   "outputs": [
    {
     "name": "stdout",
     "output_type": "stream",
     "text": [
      "Requirement already satisfied: tensorflow in /usr/local/lib/python3.10/dist-packages (2.17.0)\n",
      "Requirement already satisfied: absl-py>=1.0.0 in /usr/local/lib/python3.10/dist-packages (from tensorflow) (1.4.0)\n",
      "Requirement already satisfied: astunparse>=1.6.0 in /usr/local/lib/python3.10/dist-packages (from tensorflow) (1.6.3)\n",
      "Requirement already satisfied: flatbuffers>=24.3.25 in /usr/local/lib/python3.10/dist-packages (from tensorflow) (24.3.25)\n",
      "Requirement already satisfied: gast!=0.5.0,!=0.5.1,!=0.5.2,>=0.2.1 in /usr/local/lib/python3.10/dist-packages (from tensorflow) (0.6.0)\n",
      "Requirement already satisfied: google-pasta>=0.1.1 in /usr/local/lib/python3.10/dist-packages (from tensorflow) (0.2.0)\n",
      "Requirement already satisfied: h5py>=3.10.0 in /usr/local/lib/python3.10/dist-packages (from tensorflow) (3.11.0)\n",
      "Requirement already satisfied: libclang>=13.0.0 in /usr/local/lib/python3.10/dist-packages (from tensorflow) (18.1.1)\n",
      "Requirement already satisfied: ml-dtypes<0.5.0,>=0.3.1 in /usr/local/lib/python3.10/dist-packages (from tensorflow) (0.4.1)\n",
      "Requirement already satisfied: opt-einsum>=2.3.2 in /usr/local/lib/python3.10/dist-packages (from tensorflow) (3.4.0)\n",
      "Requirement already satisfied: packaging in /usr/local/lib/python3.10/dist-packages (from tensorflow) (24.1)\n",
      "Requirement already satisfied: protobuf!=4.21.0,!=4.21.1,!=4.21.2,!=4.21.3,!=4.21.4,!=4.21.5,<5.0.0dev,>=3.20.3 in /usr/local/lib/python3.10/dist-packages (from tensorflow) (3.20.3)\n",
      "Requirement already satisfied: requests<3,>=2.21.0 in /usr/local/lib/python3.10/dist-packages (from tensorflow) (2.32.3)\n",
      "Requirement already satisfied: setuptools in /usr/local/lib/python3.10/dist-packages (from tensorflow) (71.0.4)\n",
      "Requirement already satisfied: six>=1.12.0 in /usr/local/lib/python3.10/dist-packages (from tensorflow) (1.16.0)\n",
      "Requirement already satisfied: termcolor>=1.1.0 in /usr/local/lib/python3.10/dist-packages (from tensorflow) (2.5.0)\n",
      "Requirement already satisfied: typing-extensions>=3.6.6 in /usr/local/lib/python3.10/dist-packages (from tensorflow) (4.12.2)\n",
      "Requirement already satisfied: wrapt>=1.11.0 in /usr/local/lib/python3.10/dist-packages (from tensorflow) (1.16.0)\n",
      "Requirement already satisfied: grpcio<2.0,>=1.24.3 in /usr/local/lib/python3.10/dist-packages (from tensorflow) (1.64.1)\n",
      "Requirement already satisfied: tensorboard<2.18,>=2.17 in /usr/local/lib/python3.10/dist-packages (from tensorflow) (2.17.0)\n",
      "Requirement already satisfied: keras>=3.2.0 in /usr/local/lib/python3.10/dist-packages (from tensorflow) (3.4.1)\n",
      "Requirement already satisfied: tensorflow-io-gcs-filesystem>=0.23.1 in /usr/local/lib/python3.10/dist-packages (from tensorflow) (0.37.1)\n",
      "Requirement already satisfied: numpy<2.0.0,>=1.23.5 in /usr/local/lib/python3.10/dist-packages (from tensorflow) (1.26.4)\n",
      "Requirement already satisfied: wheel<1.0,>=0.23.0 in /usr/local/lib/python3.10/dist-packages (from astunparse>=1.6.0->tensorflow) (0.44.0)\n",
      "Requirement already satisfied: rich in /usr/local/lib/python3.10/dist-packages (from keras>=3.2.0->tensorflow) (13.9.2)\n",
      "Requirement already satisfied: namex in /usr/local/lib/python3.10/dist-packages (from keras>=3.2.0->tensorflow) (0.0.8)\n",
      "Requirement already satisfied: optree in /usr/local/lib/python3.10/dist-packages (from keras>=3.2.0->tensorflow) (0.13.0)\n",
      "Requirement already satisfied: charset-normalizer<4,>=2 in /usr/local/lib/python3.10/dist-packages (from requests<3,>=2.21.0->tensorflow) (3.3.2)\n",
      "Requirement already satisfied: idna<4,>=2.5 in /usr/local/lib/python3.10/dist-packages (from requests<3,>=2.21.0->tensorflow) (3.10)\n",
      "Requirement already satisfied: urllib3<3,>=1.21.1 in /usr/local/lib/python3.10/dist-packages (from requests<3,>=2.21.0->tensorflow) (2.2.3)\n",
      "Requirement already satisfied: certifi>=2017.4.17 in /usr/local/lib/python3.10/dist-packages (from requests<3,>=2.21.0->tensorflow) (2024.8.30)\n",
      "Requirement already satisfied: markdown>=2.6.8 in /usr/local/lib/python3.10/dist-packages (from tensorboard<2.18,>=2.17->tensorflow) (3.7)\n",
      "Requirement already satisfied: tensorboard-data-server<0.8.0,>=0.7.0 in /usr/local/lib/python3.10/dist-packages (from tensorboard<2.18,>=2.17->tensorflow) (0.7.2)\n",
      "Requirement already satisfied: werkzeug>=1.0.1 in /usr/local/lib/python3.10/dist-packages (from tensorboard<2.18,>=2.17->tensorflow) (3.0.4)\n",
      "Requirement already satisfied: MarkupSafe>=2.1.1 in /usr/local/lib/python3.10/dist-packages (from werkzeug>=1.0.1->tensorboard<2.18,>=2.17->tensorflow) (2.1.5)\n",
      "Requirement already satisfied: markdown-it-py>=2.2.0 in /usr/local/lib/python3.10/dist-packages (from rich->keras>=3.2.0->tensorflow) (3.0.0)\n",
      "Requirement already satisfied: pygments<3.0.0,>=2.13.0 in /usr/local/lib/python3.10/dist-packages (from rich->keras>=3.2.0->tensorflow) (2.18.0)\n",
      "Requirement already satisfied: mdurl~=0.1 in /usr/local/lib/python3.10/dist-packages (from markdown-it-py>=2.2.0->rich->keras>=3.2.0->tensorflow) (0.1.2)\n"
     ]
    }
   ],
   "source": [
    "pip install tensorflow"
   ]
  },
  {
   "cell_type": "code",
   "execution_count": null,
   "id": "83858c8f-1c5d-49d7-8857-615745999b54",
   "metadata": {
    "colab": {
     "base_uri": "https://localhost:8080/"
    },
    "id": "83858c8f-1c5d-49d7-8857-615745999b54",
    "outputId": "3e6bb171-20b0-4692-d4d4-1852f3f1bb48"
   },
   "outputs": [
    {
     "name": "stdout",
     "output_type": "stream",
     "text": [
      "Requirement already satisfied: openpyxl in /usr/local/lib/python3.10/dist-packages (3.1.5)\n",
      "Requirement already satisfied: et-xmlfile in /usr/local/lib/python3.10/dist-packages (from openpyxl) (1.1.0)\n"
     ]
    }
   ],
   "source": [
    "pip install openpyxl\n"
   ]
  },
  {
   "cell_type": "code",
   "execution_count": null,
   "id": "88bbdf65-72bb-48a7-aae8-cd3e4cf70236",
   "metadata": {
    "id": "88bbdf65-72bb-48a7-aae8-cd3e4cf70236"
   },
   "outputs": [],
   "source": [
    "import openpyxl\n"
   ]
  },
  {
   "cell_type": "markdown",
   "id": "bfbdc877-d564-48b9-91c7-6e0f3e8ffdd6",
   "metadata": {
    "id": "bfbdc877-d564-48b9-91c7-6e0f3e8ffdd6"
   },
   "source": [
    "# Loading and Cleaning a Parallel Corpus Dataset in Python"
   ]
  },
  {
   "cell_type": "code",
   "execution_count": 1,
   "id": "77dba95c-756c-4012-bc44-17d84447c522",
   "metadata": {
    "colab": {
     "base_uri": "https://localhost:8080/"
    },
    "id": "77dba95c-756c-4012-bc44-17d84447c522",
    "outputId": "1b13e2b9-cc3e-4883-b5f9-8124d18c497f"
   },
   "outputs": [
    {
     "name": "stdout",
     "output_type": "stream",
     "text": [
      "Drive already mounted at /content/drive; to attempt to forcibly remount, call drive.mount(\"/content/drive\", force_remount=True).\n",
      "                                          SENTENCES   \\\n",
      "0             How can I communicate with my parents?   \n",
      "1                           How can I make friends?’   \n",
      "2                              Why do I get so sad?’   \n",
      "3  If you’ve asked yourself such questions, you’r...   \n",
      "4  Depending on where you’ve turned for guidance,...   \n",
      "\n",
      "                                             MEANING  Unnamed: 2  Unnamed: 3  \\\n",
      "0                 میں اپنے والدین سے کیسے بات کروں ؟         NaN         NaN   \n",
      "1                             میں دوست کیسے بنائوں ؟         NaN         NaN   \n",
      "2                           میں اتنا اداس کیوں ہوں؟.         NaN         NaN   \n",
      "3  اگر آپ نے اپنے آپ سے ایسے سوالات کیے ہیں، تو آ...         NaN         NaN   \n",
      "4   اس بات پر منحصر ہے کہ آپ رہنمائی کے لیے کہاں ...         NaN         NaN   \n",
      "\n",
      "   Unnamed: 4  Unnamed: 5  Unnamed: 6  Unnamed: 7  Unnamed: 8  Unnamed: 9  \\\n",
      "0         NaN         NaN         NaN         NaN         NaN         NaN   \n",
      "1         NaN         NaN         NaN         NaN         NaN         NaN   \n",
      "2         NaN         NaN         NaN         NaN         NaN         NaN   \n",
      "3         NaN         NaN         NaN         NaN         NaN         NaN   \n",
      "4         NaN         NaN         NaN         NaN         NaN         NaN   \n",
      "\n",
      "   ...  Unnamed: 22  Unnamed: 23  Unnamed: 24  Unnamed: 25  Unnamed: 26  \\\n",
      "0  ...          NaN          NaN          NaN          NaN          NaN   \n",
      "1  ...          NaN          NaN          NaN          NaN          NaN   \n",
      "2  ...          NaN          NaN          NaN          NaN          NaN   \n",
      "3  ...          NaN          NaN          NaN          NaN          NaN   \n",
      "4  ...          NaN          NaN          NaN          NaN          NaN   \n",
      "\n",
      "   Unnamed: 27  Unnamed: 28 Unnamed: 29  Unnamed: 30 Unnamed: 31  \n",
      "0          NaN          NaN         NaN          NaN         NaN  \n",
      "1          NaN          NaN         NaN          NaN         NaN  \n",
      "2          NaN          NaN         NaN          NaN         NaN  \n",
      "3          NaN          NaN         NaN          NaN         NaN  \n",
      "4          NaN          NaN         NaN          NaN         NaN  \n",
      "\n",
      "[5 rows x 32 columns]\n",
      "                                              English  \\\n",
      "0              How can I communicate with my parents?   \n",
      "1                            How can I make friends?’   \n",
      "2                               Why do I get so sad?’   \n",
      "3   If you’ve asked yourself such questions, you’r...   \n",
      "4   Depending on where you’ve turned for guidance,...   \n",
      "5   To help young people get solid advice they can...   \n",
      "6   in January1982. Decades later, the series stil...   \n",
      "7   Each article is the product of extensive resea...   \n",
      "8   The book you now hold was originally published...   \n",
      "9   However, the chapters have been completely rev...   \n",
      "10  Questions Young People Ask—Answers That Work, ...   \n",
      "11                                        The result?   \n",
      "12   “I just went to my bedroom and cried some more!”   \n",
      "13   On the other hand, sometimes you might prefer...   \n",
      "14         “I talk to my parents about many subjects,   \n",
      "15  ” says a boy named Christopher. “But I like it...   \n",
      "16  whether your parents don’t seem to understand ...   \n",
      "17   one thing is certain: You need to talk to you...   \n",
      "18                   —and they need to hear from you.   \n",
      "19                        Keep Talking! In some ways,   \n",
      "20  communicating with your parents is like drivin...   \n",
      "21                      If you encounter a roadblock,   \n",
      "22   you don’t give up; you simply find another ro...   \n",
      "23                             Consider two examples.   \n",
      "24                                   You need to talk   \n",
      "25     , but your parents don’t seem to be listening.   \n",
      "26   “I find it difficult to communicate with my f...   \n",
      "27                          ” says a girl named Leah.   \n",
      "28  “Sometimes I’ll talk to him for a while and th...   \n",
      "29               I’m sorry, were you speaking to me?’   \n",
      "30   ” QUESTION: What if Leah really needs to disc...   \n",
      "31                    She has at least three options.   \n",
      "32  If you find it difficult just to sit and talk ...   \n",
      "33  discuss the matter while you are walking, driv...   \n",
      "34   Your parents want to talk, but you’d rather not.   \n",
      "35  “There’s nothing worse than being hit with que...   \n",
      "36                        ,” says a girl named Sarah.   \n",
      "37               “I just want to forget about school.   \n",
      "38          , but right away my parents start asking.   \n",
      "39   ‘How was your ‘‘ Communicating with your pare...   \n",
      "40          but when you do open up and talk to them.   \n",
      "41   you feel as if a huge weight has been lifted ...   \n",
      "42  ’’ —Devenye ROADBLOCK 2 10 young people ask Ju...   \n",
      "43  they may feel awkward and inadequate when tryi...   \n",
      "44                            DID YOU KNOW . . . day?   \n",
      "45                        Were there any problems?’ ”   \n",
      "46   No doubt Sarah’s parents ask such questions w...   \n",
      "47  Still, she laments, “It’s hard to talk about s...   \n",
      "48  Remember, the words you say and the message yo...   \n",
      "49  . For example, your parents ask you why you se...   \n",
      "\n",
      "                                                 Urdu  \n",
      "0                  میں اپنے والدین سے کیسے بات کروں ؟  \n",
      "1                              میں دوست کیسے بنائوں ؟  \n",
      "2                            میں اتنا اداس کیوں ہوں؟.  \n",
      "3   اگر آپ نے اپنے آپ سے ایسے سوالات کیے ہیں، تو آ...  \n",
      "4    اس بات پر منحصر ہے کہ آپ رہنمائی کے لیے کہاں ...  \n",
      "5   نوجوانوں کو ٹھوس مشورے حاصل کرنے میں مدد کرنے ...  \n",
      "6   8 جنوری 1982۔ دہائیوں کے بعد، سیریز اب بھی ایک...  \n",
      "7   درحقیقت، اس بات کا تعین کرنے کے لیے کہ نوجوان ...  \n",
      "8   جو کتاب آپ کے پاس ہے وہ اصل میں 1989 میں شائع ...  \n",
      "9                                                 ...  \n",
      "10  نوجوان لوگ جو سوالات پوچھتے ہیں — جوابات جو کا...  \n",
      "11                                             نتیجہ؟  \n",
      "12  میں ابھی اپنے سونے کے کمرے میں گیا اور کچھ اور...  \n",
      "13   دوسری طرف، بعض اوقات آپ اپنے والدین کے سامنے ...  \n",
      "14                                                ...  \n",
      "15  ”کرسٹوفر نامی لڑکا کہتا ہے۔ \"لیکن مجھے یہ پسند...  \n",
      "16  چاہے آپ کے والدین آپ کو سمجھ نہیں رہے ہیں یا آ...  \n",
      "17   ایک چیز یقینی ہے: آپ کو اپنے والدین سے بات کر...  \n",
      "18                  اور انہیں آپ سے سننے کی ضرورت ہے۔  \n",
      "19                      بات کرتے رہیں! کچھ طریقوں سے،  \n",
      "20  اپنے والدین کے ساتھ بات چیت کرنا کار چلانے کے ...  \n",
      "21          اگر آپ کو روڈ بلاک کا سامنا کرنا پڑتا ہے،  \n",
      "22     تم ہمت نہ ہارو آپ صرف ایک اور راستہ تلاش کریں.  \n",
      "23                             دو مثالوں پر غور کریں۔  \n",
      "24                        آپ کو بات کرنے کی ضرورت ہے۔  \n",
      "25  لیکن ایسا لگتا ہے کہ آپ کے والدین سن نہیں رہے ...  \n",
      "26                                                ...  \n",
      "27                            ”لیہ نامی لڑکی کہتی ہے۔  \n",
      "28  کبھی کبھی میں تھوڑی دیر اس سے بات کروں گا اور ...  \n",
      "29                            سارہ نامی لڑکی کہتی ہے۔  \n",
      "30  میں صرف اسکول کے بارے میں بھولنا چاہتا ہوں۔_x0...  \n",
      "31  یاد رکھیں، جو الفاظ آپ کہتے ہیں اور جو پیغام آ...  \n",
      "32  اگر آپ کو کسی مسئلے کے بارے میں اپنے والدین (و...  \n",
      "33  جب آپ ایک ساتھ چل رہے ہوں، گاڑی چلا رہے ہوں یا...  \n",
      "34  آپ کے والدین بات کرنا چاہتے ہیں، لیکن آپ ایسا ...  \n",
      "35  اسکول میں سخت دن کے فوراً بعد سوالات کا نشانہ ...  \n",
      "36         لیکن فوراً ہی میرے والدین پوچھنے لگتے ہیں۔  \n",
      "37   ’’آپ کا‘‘ اپنے والدین کے ساتھ بات چیت کرنا ہم...  \n",
      "38              لیکن جب آپ کھل کر ان سے بات کرتے ہیں۔  \n",
      "39   آپ کو ایسا لگتا ہے جیسے آپ کے دماغ سے ایک بہت...  \n",
      "40   نوجوان لوگ پوچھتے ہیں جس طرح آپ کو اپنے والدی...  \n",
      "41  انہی موضوعات کے بارے میں آپ سے بات کرنے کی کوش...  \n",
      "42                            کیا آپ کو دن معلوم تھا؟  \n",
      "43                              کیا کوئی مسئلہ تھا؟‘‘  \n",
      "44   اس میں کوئی شک نہیں کہ سارہ کے والدین بہترین ...  \n",
      "45  پھر بھی، وہ افسوس کا اظہار کرتی ہے، \"جب میں تھ...  \n",
      "46  یاد رکھیں، جو الفاظ آپ کہتے ہیں اور جو پیغام آ...  \n",
      "47                                                ...  \n",
      "48   آپ کہتے ہیں، \"میں اس کے بارے میں بات نہیں کرن...  \n",
      "49                        لیکن آپ کے والدین سنتے ہیں۔  \n"
     ]
    }
   ],
   "source": [
    "import pandas as pd\n",
    "\n",
    "from google.colab import drive\n",
    "drive.mount('/content/drive')\n",
    "\n",
    "import pandas as pd\n",
    "file_path = '/content/drive/My Drive/parallel-corpus.xlsx'  # adjust the path\n",
    "data = pd.read_excel(file_path)\n",
    "print(data.head())\n",
    "\n",
    "# Clean the dataset by selecting relevant columns and removing empty rows\n",
    "cleaned_data = data[['SENTENCES ', 'MEANING']].dropna()\n",
    "\n",
    "# Rename columns for convenience\n",
    "cleaned_data.columns = ['English', 'Urdu']\n",
    "\n",
    "# Display cleaned dataset\n",
    "print(cleaned_data.head(50))\n"
   ]
  },
  {
   "cell_type": "markdown",
   "id": "3eec376b-7617-4939-98d5-60f9121561d1",
   "metadata": {
    "id": "3eec376b-7617-4939-98d5-60f9121561d1"
   },
   "source": [
    "# Building Many-to-Many RNN Model"
   ]
  },
  {
   "cell_type": "code",
   "execution_count": 18,
   "id": "8d5dedb6-2cc1-4033-93e8-d93f44f14525",
   "metadata": {
    "colab": {
     "base_uri": "https://localhost:8080/"
    },
    "id": "8d5dedb6-2cc1-4033-93e8-d93f44f14525",
    "outputId": "547b2410-9b91-4822-f53d-a55a8c50b16f"
   },
   "outputs": [
    {
     "name": "stdout",
     "output_type": "stream",
     "text": [
      "Epoch 1/15\n"
     ]
    },
    {
     "name": "stderr",
     "output_type": "stream",
     "text": [
      "/usr/local/lib/python3.10/dist-packages/keras/src/layers/core/embedding.py:90: UserWarning: Argument `input_length` is deprecated. Just remove it.\n",
      "  warnings.warn(\n"
     ]
    },
    {
     "name": "stdout",
     "output_type": "stream",
     "text": [
      "\u001b[1m741/741\u001b[0m \u001b[32m━━━━━━━━━━━━━━━━━━━━\u001b[0m\u001b[37m\u001b[0m \u001b[1m61s\u001b[0m 76ms/step - accuracy: 0.9467 - loss: 1.0315 - val_accuracy: 0.9656 - val_loss: 0.2688\n",
      "Epoch 2/15\n",
      "\u001b[1m741/741\u001b[0m \u001b[32m━━━━━━━━━━━━━━━━━━━━\u001b[0m\u001b[37m\u001b[0m \u001b[1m52s\u001b[0m 71ms/step - accuracy: 0.9670 - loss: 0.2577 - val_accuracy: 0.9665 - val_loss: 0.2617\n",
      "Epoch 3/15\n",
      "\u001b[1m741/741\u001b[0m \u001b[32m━━━━━━━━━━━━━━━━━━━━\u001b[0m\u001b[37m\u001b[0m \u001b[1m52s\u001b[0m 71ms/step - accuracy: 0.9684 - loss: 0.2461 - val_accuracy: 0.9670 - val_loss: 0.2537\n",
      "Epoch 4/15\n",
      "\u001b[1m741/741\u001b[0m \u001b[32m━━━━━━━━━━━━━━━━━━━━\u001b[0m\u001b[37m\u001b[0m \u001b[1m52s\u001b[0m 71ms/step - accuracy: 0.9686 - loss: 0.2383 - val_accuracy: 0.9673 - val_loss: 0.2473\n",
      "Epoch 5/15\n",
      "\u001b[1m741/741\u001b[0m \u001b[32m━━━━━━━━━━━━━━━━━━━━\u001b[0m\u001b[37m\u001b[0m \u001b[1m53s\u001b[0m 71ms/step - accuracy: 0.9693 - loss: 0.2301 - val_accuracy: 0.9676 - val_loss: 0.2412\n",
      "Epoch 6/15\n",
      "\u001b[1m741/741\u001b[0m \u001b[32m━━━━━━━━━━━━━━━━━━━━\u001b[0m\u001b[37m\u001b[0m \u001b[1m52s\u001b[0m 71ms/step - accuracy: 0.9693 - loss: 0.2242 - val_accuracy: 0.9678 - val_loss: 0.2291\n",
      "Epoch 7/15\n",
      "\u001b[1m741/741\u001b[0m \u001b[32m━━━━━━━━━━━━━━━━━━━━\u001b[0m\u001b[37m\u001b[0m \u001b[1m52s\u001b[0m 71ms/step - accuracy: 0.9698 - loss: 0.2179 - val_accuracy: 0.9679 - val_loss: 0.2431\n",
      "Epoch 8/15\n",
      "\u001b[1m741/741\u001b[0m \u001b[32m━━━━━━━━━━━━━━━━━━━━\u001b[0m\u001b[37m\u001b[0m \u001b[1m53s\u001b[0m 71ms/step - accuracy: 0.9695 - loss: 0.2117 - val_accuracy: 0.9680 - val_loss: 0.2367\n",
      "Epoch 9/15\n",
      "\u001b[1m741/741\u001b[0m \u001b[32m━━━━━━━━━━━━━━━━━━━━\u001b[0m\u001b[37m\u001b[0m \u001b[1m53s\u001b[0m 71ms/step - accuracy: 0.9700 - loss: 0.2070 - val_accuracy: 0.9681 - val_loss: 0.2188\n",
      "Epoch 10/15\n",
      "\u001b[1m741/741\u001b[0m \u001b[32m━━━━━━━━━━━━━━━━━━━━\u001b[0m\u001b[37m\u001b[0m \u001b[1m53s\u001b[0m 71ms/step - accuracy: 0.9695 - loss: 0.2008 - val_accuracy: 0.9682 - val_loss: 0.2200\n",
      "Epoch 11/15\n",
      "\u001b[1m741/741\u001b[0m \u001b[32m━━━━━━━━━━━━━━━━━━━━\u001b[0m\u001b[37m\u001b[0m \u001b[1m53s\u001b[0m 71ms/step - accuracy: 0.9701 - loss: 0.1956 - val_accuracy: 0.9683 - val_loss: 0.2188\n",
      "Epoch 12/15\n",
      "\u001b[1m741/741\u001b[0m \u001b[32m━━━━━━━━━━━━━━━━━━━━\u001b[0m\u001b[37m\u001b[0m \u001b[1m53s\u001b[0m 71ms/step - accuracy: 0.9703 - loss: 0.1983 - val_accuracy: 0.9683 - val_loss: 0.2305\n",
      "Epoch 13/15\n",
      "\u001b[1m741/741\u001b[0m \u001b[32m━━━━━━━━━━━━━━━━━━━━\u001b[0m\u001b[37m\u001b[0m \u001b[1m53s\u001b[0m 71ms/step - accuracy: 0.9703 - loss: 0.2030 - val_accuracy: 0.9684 - val_loss: 0.2274\n",
      "Epoch 14/15\n",
      "\u001b[1m741/741\u001b[0m \u001b[32m━━━━━━━━━━━━━━━━━━━━\u001b[0m\u001b[37m\u001b[0m \u001b[1m53s\u001b[0m 71ms/step - accuracy: 0.9704 - loss: 0.2014 - val_accuracy: 0.9685 - val_loss: 0.2334\n",
      "\u001b[1m186/186\u001b[0m \u001b[32m━━━━━━━━━━━━━━━━━━━━\u001b[0m\u001b[37m\u001b[0m \u001b[1m5s\u001b[0m 29ms/step - accuracy: 0.9684 - loss: 0.2191\n"
     ]
    },
    {
     "data": {
      "text/plain": [
       "[0.21875135600566864, 0.9683007597923279]"
      ]
     },
     "execution_count": 18,
     "metadata": {},
     "output_type": "execute_result"
    }
   ],
   "source": [
    "import pandas as pd\n",
    "from sklearn.model_selection import train_test_split\n",
    "from tensorflow.keras.preprocessing.text import Tokenizer\n",
    "from tensorflow.keras.preprocessing.sequence import pad_sequences\n",
    "import tensorflow as tf\n",
    "from tensorflow.keras.models import Sequential\n",
    "from tensorflow.keras.layers import Embedding, SimpleRNN, Dense, Dropout\n",
    "from tensorflow.keras.callbacks import EarlyStopping\n",
    "\n",
    "# Select relevant columns (English and Urdu) and drop missing values\n",
    "cleaned_data = data[['SENTENCES ', 'MEANING']].dropna()\n",
    "\n",
    "# Rename the columns for convenience\n",
    "cleaned_data.columns = ['English', 'Urdu']\n",
    "\n",
    "# Ensure all sentences are treated as strings\n",
    "cleaned_data['English'] = cleaned_data['English'].astype(str)\n",
    "cleaned_data['Urdu'] = cleaned_data['Urdu'].astype(str)\n",
    "\n",
    "# Extract English and Urdu sentences\n",
    "english_sentences = cleaned_data['English'].values\n",
    "urdu_sentences = cleaned_data['Urdu'].values\n",
    "\n",
    "# Tokenize English sentences\n",
    "tokenizer_eng = Tokenizer()\n",
    "tokenizer_eng.fit_on_texts(english_sentences)\n",
    "english_sequences = tokenizer_eng.texts_to_sequences(english_sentences)\n",
    "max_eng_len = max([len(seq) for seq in english_sequences])  # Maximum sequence length for padding\n",
    "\n",
    "# Tokenize Urdu sentences\n",
    "tokenizer_urdu = Tokenizer()\n",
    "tokenizer_urdu.fit_on_texts(urdu_sentences)\n",
    "urdu_sequences = tokenizer_urdu.texts_to_sequences(urdu_sentences)\n",
    "\n",
    "# Padding both English and Urdu sequences to ensure they are the same length\n",
    "english_padded = pad_sequences(english_sequences, maxlen=max_eng_len, padding='post')\n",
    "urdu_padded = pad_sequences(urdu_sequences, maxlen=max_eng_len, padding='post')\n",
    "\n",
    "# Split the data into training and testing sets (80% train, 20% test)\n",
    "X_train, X_test, y_train, y_test = train_test_split(english_padded, urdu_padded, test_size=0.2)\n",
    "\n",
    "# Define the model\n",
    "model = Sequential()\n",
    "model.add(Embedding(input_dim=len(tokenizer_eng.word_index)+1, output_dim=256, input_length=max_eng_len))\n",
    "model.add(SimpleRNN(256, return_sequences=True))  # Many-to-many RNN\n",
    "model.add(Dropout(0.5))  # Adding dropout layer\n",
    "model.add(Dense(len(tokenizer_urdu.word_index)+1, activation='softmax'))\n",
    "\n",
    "# Compile the model\n",
    "model.compile(optimizer='adam', loss='sparse_categorical_crossentropy', metrics=['accuracy'])\n",
    "\n",
    "# Implementing Early Stopping\n",
    "early_stopping = EarlyStopping(monitor='val_loss', patience=3, restore_best_weights=True)\n",
    "\n",
    "# Train the model\n",
    "history = model.fit(X_train, y_train, epochs=15, validation_data=(X_test, y_test), callbacks=[early_stopping])\n",
    "\n",
    "# Evaluate the model\n",
    "model.evaluate(X_test, y_test)\n"
   ]
  },
  {
   "cell_type": "markdown",
   "id": "7c8f2970",
   "metadata": {},
   "source": [
    "# Graph for training and validation loss"
   ]
  },
  {
   "cell_type": "code",
   "execution_count": 19,
   "id": "0KVuXIUrLYI6",
   "metadata": {
    "colab": {
     "base_uri": "https://localhost:8080/",
     "height": 449
    },
    "id": "0KVuXIUrLYI6",
    "outputId": "d2362e6a-10fd-434f-aa95-780f476fbb02"
   },
   "outputs": [
    {
     "data": {
      "image/png": "[encoded data removed]",
      "text/plain": [
       "<Figure size 640x480 with 1 Axes>"
      ]
     },
     "metadata": {},
     "output_type": "display_data"
    }
   ],
   "source": [
    "\n",
    "# Plot training and validation loss\n",
    "import matplotlib.pyplot as plt\n",
    "\n",
    "plt.plot(history.history['loss'], label='Training Loss')\n",
    "plt.plot(history.history['val_loss'], label='Validation Loss')\n",
    "plt.xlabel('Epochs')\n",
    "plt.ylabel('Loss')\n",
    "plt.legend()\n",
    "plt.show()\n"
   ]
  },
  {
   "cell_type": "markdown",
   "id": "cb5f0885-e232-4db9-a7bc-cf0589b392b4",
   "metadata": {},
   "source": [
    "# Note: Since validation loss is not significantly higher than training loss our RNN model is not overfitiing, the accuracy and precision is due to same testing and training dataset and its simple or no complexities"
   ]
  },
  {
   "cell_type": "markdown",
   "id": "bd6c255a-d56b-4337-9b31-714b228b3c14",
   "metadata": {
    "id": "bd6c255a-d56b-4337-9b31-714b228b3c14"
   },
   "source": [
    "# EVALUATING THE MODEL"
   ]
  },
  {
   "cell_type": "code",
   "execution_count": 17,
   "id": "89c0fbb1-8f2b-4dd8-a0be-b27655e8c30e",
   "metadata": {
    "colab": {
     "base_uri": "https://localhost:8080/"
    },
    "id": "89c0fbb1-8f2b-4dd8-a0be-b27655e8c30e",
    "outputId": "5147d3e4-dbd4-4e11-c718-c469abe4dff2"
   },
   "outputs": [
    {
     "name": "stdout",
     "output_type": "stream",
     "text": [
      "\u001b[1m1/1\u001b[0m \u001b[32m━━━━━━━━━━━━━━━━━━━━\u001b[0m\u001b[37m\u001b[0m \u001b[1m0s\u001b[0m 317ms/step\n",
      "\u001b[1m1/1\u001b[0m \u001b[32m━━━━━━━━━━━━━━━━━━━━\u001b[0m\u001b[37m\u001b[0m \u001b[1m0s\u001b[0m 81ms/step\n",
      "\u001b[1m1/1\u001b[0m \u001b[32m━━━━━━━━━━━━━━━━━━━━\u001b[0m\u001b[37m\u001b[0m \u001b[1m0s\u001b[0m 83ms/step\n",
      "\u001b[1m1/1\u001b[0m \u001b[32m━━━━━━━━━━━━━━━━━━━━\u001b[0m\u001b[37m\u001b[0m \u001b[1m0s\u001b[0m 80ms/step\n",
      "\u001b[1m1/1\u001b[0m \u001b[32m━━━━━━━━━━━━━━━━━━━━\u001b[0m\u001b[37m\u001b[0m \u001b[1m0s\u001b[0m 80ms/step\n",
      "\u001b[1m1/1\u001b[0m \u001b[32m━━━━━━━━━━━━━━━━━━━━\u001b[0m\u001b[37m\u001b[0m \u001b[1m0s\u001b[0m 79ms/step\n",
      "\u001b[1m1/1\u001b[0m \u001b[32m━━━━━━━━━━━━━━━━━━━━\u001b[0m\u001b[37m\u001b[0m \u001b[1m0s\u001b[0m 79ms/step\n",
      "\u001b[1m1/1\u001b[0m \u001b[32m━━━━━━━━━━━━━━━━━━━━\u001b[0m\u001b[37m\u001b[0m \u001b[1m0s\u001b[0m 79ms/step\n",
      "\u001b[1m1/1\u001b[0m \u001b[32m━━━━━━━━━━━━━━━━━━━━\u001b[0m\u001b[37m\u001b[0m \u001b[1m0s\u001b[0m 80ms/step\n",
      "\u001b[1m1/1\u001b[0m \u001b[32m━━━━━━━━━━━━━━━━━━━━\u001b[0m\u001b[37m\u001b[0m \u001b[1m0s\u001b[0m 81ms/step\n",
      "\u001b[1m1/1\u001b[0m \u001b[32m━━━━━━━━━━━━━━━━━━━━\u001b[0m\u001b[37m\u001b[0m \u001b[1m0s\u001b[0m 78ms/step\n",
      "\u001b[1m1/1\u001b[0m \u001b[32m━━━━━━━━━━━━━━━━━━━━\u001b[0m\u001b[37m\u001b[0m \u001b[1m0s\u001b[0m 78ms/step\n",
      "\u001b[1m1/1\u001b[0m \u001b[32m━━━━━━━━━━━━━━━━━━━━\u001b[0m\u001b[37m\u001b[0m \u001b[1m0s\u001b[0m 74ms/step\n",
      "\u001b[1m1/1\u001b[0m \u001b[32m━━━━━━━━━━━━━━━━━━━━\u001b[0m\u001b[37m\u001b[0m \u001b[1m0s\u001b[0m 77ms/step\n",
      "\u001b[1m1/1\u001b[0m \u001b[32m━━━━━━━━━━━━━━━━━━━━\u001b[0m\u001b[37m\u001b[0m \u001b[1m0s\u001b[0m 78ms/step\n",
      "\u001b[1m1/1\u001b[0m \u001b[32m━━━━━━━━━━━━━━━━━━━━\u001b[0m\u001b[37m\u001b[0m \u001b[1m0s\u001b[0m 77ms/step\n",
      "\u001b[1m1/1\u001b[0m \u001b[32m━━━━━━━━━━━━━━━━━━━━\u001b[0m\u001b[37m\u001b[0m \u001b[1m0s\u001b[0m 76ms/step\n",
      "\u001b[1m1/1\u001b[0m \u001b[32m━━━━━━━━━━━━━━━━━━━━\u001b[0m\u001b[37m\u001b[0m \u001b[1m0s\u001b[0m 77ms/step\n",
      "\u001b[1m1/1\u001b[0m \u001b[32m━━━━━━━━━━━━━━━━━━━━\u001b[0m\u001b[37m\u001b[0m \u001b[1m0s\u001b[0m 76ms/step\n",
      "\u001b[1m1/1\u001b[0m \u001b[32m━━━━━━━━━━━━━━━━━━━━\u001b[0m\u001b[37m\u001b[0m \u001b[1m0s\u001b[0m 73ms/step\n",
      "\u001b[1m1/1\u001b[0m \u001b[32m━━━━━━━━━━━━━━━━━━━━\u001b[0m\u001b[37m\u001b[0m \u001b[1m0s\u001b[0m 77ms/step\n",
      "\u001b[1m1/1\u001b[0m \u001b[32m━━━━━━━━━━━━━━━━━━━━\u001b[0m\u001b[37m\u001b[0m \u001b[1m0s\u001b[0m 77ms/step\n",
      "\u001b[1m1/1\u001b[0m \u001b[32m━━━━━━━━━━━━━━━━━━━━\u001b[0m\u001b[37m\u001b[0m \u001b[1m0s\u001b[0m 76ms/step\n",
      "\u001b[1m1/1\u001b[0m \u001b[32m━━━━━━━━━━━━━━━━━━━━\u001b[0m\u001b[37m\u001b[0m \u001b[1m0s\u001b[0m 78ms/step\n",
      "\u001b[1m1/1\u001b[0m \u001b[32m━━━━━━━━━━━━━━━━━━━━\u001b[0m\u001b[37m\u001b[0m \u001b[1m0s\u001b[0m 77ms/step\n",
      "\u001b[1m1/1\u001b[0m \u001b[32m━━━━━━━━━━━━━━━━━━━━\u001b[0m\u001b[37m\u001b[0m \u001b[1m0s\u001b[0m 78ms/step\n",
      "\u001b[1m1/1\u001b[0m \u001b[32m━━━━━━━━━━━━━━━━━━━━\u001b[0m\u001b[37m\u001b[0m \u001b[1m0s\u001b[0m 77ms/step\n",
      "\u001b[1m1/1\u001b[0m \u001b[32m━━━━━━━━━━━━━━━━━━━━\u001b[0m\u001b[37m\u001b[0m \u001b[1m0s\u001b[0m 76ms/step\n",
      "\u001b[1m1/1\u001b[0m \u001b[32m━━━━━━━━━━━━━━━━━━━━\u001b[0m\u001b[37m\u001b[0m \u001b[1m0s\u001b[0m 76ms/step\n",
      "\u001b[1m1/1\u001b[0m \u001b[32m━━━━━━━━━━━━━━━━━━━━\u001b[0m\u001b[37m\u001b[0m \u001b[1m0s\u001b[0m 74ms/step\n",
      "\u001b[1m1/1\u001b[0m \u001b[32m━━━━━━━━━━━━━━━━━━━━\u001b[0m\u001b[37m\u001b[0m \u001b[1m0s\u001b[0m 76ms/step\n",
      "\u001b[1m1/1\u001b[0m \u001b[32m━━━━━━━━━━━━━━━━━━━━\u001b[0m\u001b[37m\u001b[0m \u001b[1m0s\u001b[0m 76ms/step\n",
      "\u001b[1m1/1\u001b[0m \u001b[32m━━━━━━━━━━━━━━━━━━━━\u001b[0m\u001b[37m\u001b[0m \u001b[1m0s\u001b[0m 76ms/step\n",
      "\u001b[1m1/1\u001b[0m \u001b[32m━━━━━━━━━━━━━━━━━━━━\u001b[0m\u001b[37m\u001b[0m \u001b[1m0s\u001b[0m 76ms/step\n",
      "\u001b[1m1/1\u001b[0m \u001b[32m━━━━━━━━━━━━━━━━━━━━\u001b[0m\u001b[37m\u001b[0m \u001b[1m0s\u001b[0m 76ms/step\n",
      "\u001b[1m1/1\u001b[0m \u001b[32m━━━━━━━━━━━━━━━━━━━━\u001b[0m\u001b[37m\u001b[0m \u001b[1m0s\u001b[0m 76ms/step\n",
      "\u001b[1m1/1\u001b[0m \u001b[32m━━━━━━━━━━━━━━━━━━━━\u001b[0m\u001b[37m\u001b[0m \u001b[1m0s\u001b[0m 73ms/step\n",
      "\u001b[1m1/1\u001b[0m \u001b[32m━━━━━━━━━━━━━━━━━━━━\u001b[0m\u001b[37m\u001b[0m \u001b[1m0s\u001b[0m 76ms/step\n",
      "\u001b[1m1/1\u001b[0m \u001b[32m━━━━━━━━━━━━━━━━━━━━\u001b[0m\u001b[37m\u001b[0m \u001b[1m0s\u001b[0m 77ms/step\n",
      "\u001b[1m1/1\u001b[0m \u001b[32m━━━━━━━━━━━━━━━━━━━━\u001b[0m\u001b[37m\u001b[0m \u001b[1m0s\u001b[0m 75ms/step\n",
      "\u001b[1m1/1\u001b[0m \u001b[32m━━━━━━━━━━━━━━━━━━━━\u001b[0m\u001b[37m\u001b[0m \u001b[1m0s\u001b[0m 72ms/step\n",
      "\u001b[1m1/1\u001b[0m \u001b[32m━━━━━━━━━━━━━━━━━━━━\u001b[0m\u001b[37m\u001b[0m \u001b[1m0s\u001b[0m 77ms/step\n",
      "\u001b[1m1/1\u001b[0m \u001b[32m━━━━━━━━━━━━━━━━━━━━\u001b[0m\u001b[37m\u001b[0m \u001b[1m0s\u001b[0m 75ms/step\n",
      "\u001b[1m1/1\u001b[0m \u001b[32m━━━━━━━━━━━━━━━━━━━━\u001b[0m\u001b[37m\u001b[0m \u001b[1m0s\u001b[0m 74ms/step\n",
      "\u001b[1m1/1\u001b[0m \u001b[32m━━━━━━━━━━━━━━━━━━━━\u001b[0m\u001b[37m\u001b[0m \u001b[1m0s\u001b[0m 75ms/step\n",
      "\u001b[1m1/1\u001b[0m \u001b[32m━━━━━━━━━━━━━━━━━━━━\u001b[0m\u001b[37m\u001b[0m \u001b[1m0s\u001b[0m 75ms/step\n",
      "\u001b[1m1/1\u001b[0m \u001b[32m━━━━━━━━━━━━━━━━━━━━\u001b[0m\u001b[37m\u001b[0m \u001b[1m0s\u001b[0m 74ms/step\n",
      "\u001b[1m1/1\u001b[0m \u001b[32m━━━━━━━━━━━━━━━━━━━━\u001b[0m\u001b[37m\u001b[0m \u001b[1m0s\u001b[0m 75ms/step\n",
      "\u001b[1m1/1\u001b[0m \u001b[32m━━━━━━━━━━━━━━━━━━━━\u001b[0m\u001b[37m\u001b[0m \u001b[1m0s\u001b[0m 76ms/step\n",
      "\u001b[1m1/1\u001b[0m \u001b[32m━━━━━━━━━━━━━━━━━━━━\u001b[0m\u001b[37m\u001b[0m \u001b[1m0s\u001b[0m 76ms/step\n",
      "\u001b[1m1/1\u001b[0m \u001b[32m━━━━━━━━━━━━━━━━━━━━\u001b[0m\u001b[37m\u001b[0m \u001b[1m0s\u001b[0m 75ms/step\n",
      "\u001b[1m1/1\u001b[0m \u001b[32m━━━━━━━━━━━━━━━━━━━━\u001b[0m\u001b[37m\u001b[0m \u001b[1m0s\u001b[0m 75ms/step\n",
      "\u001b[1m1/1\u001b[0m \u001b[32m━━━━━━━━━━━━━━━━━━━━\u001b[0m\u001b[37m\u001b[0m \u001b[1m0s\u001b[0m 75ms/step\n",
      "\u001b[1m1/1\u001b[0m \u001b[32m━━━━━━━━━━━━━━━━━━━━\u001b[0m\u001b[37m\u001b[0m \u001b[1m0s\u001b[0m 74ms/step\n",
      "\u001b[1m1/1\u001b[0m \u001b[32m━━━━━━━━━━━━━━━━━━━━\u001b[0m\u001b[37m\u001b[0m \u001b[1m0s\u001b[0m 74ms/step\n",
      "\u001b[1m1/1\u001b[0m \u001b[32m━━━━━━━━━━━━━━━━━━━━\u001b[0m\u001b[37m\u001b[0m \u001b[1m0s\u001b[0m 75ms/step\n",
      "\u001b[1m1/1\u001b[0m \u001b[32m━━━━━━━━━━━━━━━━━━━━\u001b[0m\u001b[37m\u001b[0m \u001b[1m0s\u001b[0m 76ms/step\n",
      "\u001b[1m1/1\u001b[0m \u001b[32m━━━━━━━━━━━━━━━━━━━━\u001b[0m\u001b[37m\u001b[0m \u001b[1m0s\u001b[0m 73ms/step\n",
      "\u001b[1m1/1\u001b[0m \u001b[32m━━━━━━━━━━━━━━━━━━━━\u001b[0m\u001b[37m\u001b[0m \u001b[1m0s\u001b[0m 77ms/step\n",
      "\u001b[1m1/1\u001b[0m \u001b[32m━━━━━━━━━━━━━━━━━━━━\u001b[0m\u001b[37m\u001b[0m \u001b[1m0s\u001b[0m 75ms/step\n",
      "\u001b[1m1/1\u001b[0m \u001b[32m━━━━━━━━━━━━━━━━━━━━\u001b[0m\u001b[37m\u001b[0m \u001b[1m0s\u001b[0m 76ms/step\n",
      "\u001b[1m1/1\u001b[0m \u001b[32m━━━━━━━━━━━━━━━━━━━━\u001b[0m\u001b[37m\u001b[0m \u001b[1m0s\u001b[0m 76ms/step\n",
      "\u001b[1m1/1\u001b[0m \u001b[32m━━━━━━━━━━━━━━━━━━━━\u001b[0m\u001b[37m\u001b[0m \u001b[1m0s\u001b[0m 75ms/step\n",
      "\u001b[1m1/1\u001b[0m \u001b[32m━━━━━━━━━━━━━━━━━━━━\u001b[0m\u001b[37m\u001b[0m \u001b[1m0s\u001b[0m 74ms/step\n",
      "\u001b[1m1/1\u001b[0m \u001b[32m━━━━━━━━━━━━━━━━━━━━\u001b[0m\u001b[37m\u001b[0m \u001b[1m0s\u001b[0m 74ms/step\n",
      "\u001b[1m1/1\u001b[0m \u001b[32m━━━━━━━━━━━━━━━━━━━━\u001b[0m\u001b[37m\u001b[0m \u001b[1m0s\u001b[0m 75ms/step\n",
      "\u001b[1m1/1\u001b[0m \u001b[32m━━━━━━━━━━━━━━━━━━━━\u001b[0m\u001b[37m\u001b[0m \u001b[1m0s\u001b[0m 75ms/step\n",
      "\u001b[1m1/1\u001b[0m \u001b[32m━━━━━━━━━━━━━━━━━━━━\u001b[0m\u001b[37m\u001b[0m \u001b[1m0s\u001b[0m 75ms/step\n",
      "\u001b[1m1/1\u001b[0m \u001b[32m━━━━━━━━━━━━━━━━━━━━\u001b[0m\u001b[37m\u001b[0m \u001b[1m0s\u001b[0m 76ms/step\n",
      "\u001b[1m1/1\u001b[0m \u001b[32m━━━━━━━━━━━━━━━━━━━━\u001b[0m\u001b[37m\u001b[0m \u001b[1m0s\u001b[0m 74ms/step\n",
      "\u001b[1m1/1\u001b[0m \u001b[32m━━━━━━━━━━━━━━━━━━━━\u001b[0m\u001b[37m\u001b[0m \u001b[1m0s\u001b[0m 77ms/step\n",
      "\u001b[1m1/1\u001b[0m \u001b[32m━━━━━━━━━━━━━━━━━━━━\u001b[0m\u001b[37m\u001b[0m \u001b[1m0s\u001b[0m 72ms/step\n",
      "\u001b[1m1/1\u001b[0m \u001b[32m━━━━━━━━━━━━━━━━━━━━\u001b[0m\u001b[37m\u001b[0m \u001b[1m0s\u001b[0m 75ms/step\n",
      "\u001b[1m1/1\u001b[0m \u001b[32m━━━━━━━━━━━━━━━━━━━━\u001b[0m\u001b[37m\u001b[0m \u001b[1m0s\u001b[0m 74ms/step\n",
      "\u001b[1m1/1\u001b[0m \u001b[32m━━━━━━━━━━━━━━━━━━━━\u001b[0m\u001b[37m\u001b[0m \u001b[1m0s\u001b[0m 73ms/step\n",
      "\u001b[1m1/1\u001b[0m \u001b[32m━━━━━━━━━━━━━━━━━━━━\u001b[0m\u001b[37m\u001b[0m \u001b[1m0s\u001b[0m 85ms/step\n",
      "\u001b[1m1/1\u001b[0m \u001b[32m━━━━━━━━━━━━━━━━━━━━\u001b[0m\u001b[37m\u001b[0m \u001b[1m0s\u001b[0m 75ms/step\n",
      "\u001b[1m1/1\u001b[0m \u001b[32m━━━━━━━━━━━━━━━━━━━━\u001b[0m\u001b[37m\u001b[0m \u001b[1m0s\u001b[0m 74ms/step\n",
      "\u001b[1m1/1\u001b[0m \u001b[32m━━━━━━━━━━━━━━━━━━━━\u001b[0m\u001b[37m\u001b[0m \u001b[1m0s\u001b[0m 75ms/step\n",
      "\u001b[1m1/1\u001b[0m \u001b[32m━━━━━━━━━━━━━━━━━━━━\u001b[0m\u001b[37m\u001b[0m \u001b[1m0s\u001b[0m 75ms/step\n",
      "\u001b[1m1/1\u001b[0m \u001b[32m━━━━━━━━━━━━━━━━━━━━\u001b[0m\u001b[37m\u001b[0m \u001b[1m0s\u001b[0m 75ms/step\n",
      "\u001b[1m1/1\u001b[0m \u001b[32m━━━━━━━━━━━━━━━━━━━━\u001b[0m\u001b[37m\u001b[0m \u001b[1m0s\u001b[0m 73ms/step\n",
      "\u001b[1m1/1\u001b[0m \u001b[32m━━━━━━━━━━━━━━━━━━━━\u001b[0m\u001b[37m\u001b[0m \u001b[1m0s\u001b[0m 76ms/step\n",
      "\u001b[1m1/1\u001b[0m \u001b[32m━━━━━━━━━━━━━━━━━━━━\u001b[0m\u001b[37m\u001b[0m \u001b[1m0s\u001b[0m 74ms/step\n",
      "\u001b[1m1/1\u001b[0m \u001b[32m━━━━━━━━━━━━━━━━━━━━\u001b[0m\u001b[37m\u001b[0m \u001b[1m0s\u001b[0m 74ms/step\n",
      "\u001b[1m1/1\u001b[0m \u001b[32m━━━━━━━━━━━━━━━━━━━━\u001b[0m\u001b[37m\u001b[0m \u001b[1m0s\u001b[0m 75ms/step\n",
      "\u001b[1m1/1\u001b[0m \u001b[32m━━━━━━━━━━━━━━━━━━━━\u001b[0m\u001b[37m\u001b[0m \u001b[1m0s\u001b[0m 74ms/step\n",
      "\u001b[1m1/1\u001b[0m \u001b[32m━━━━━━━━━━━━━━━━━━━━\u001b[0m\u001b[37m\u001b[0m \u001b[1m0s\u001b[0m 75ms/step\n",
      "\u001b[1m1/1\u001b[0m \u001b[32m━━━━━━━━━━━━━━━━━━━━\u001b[0m\u001b[37m\u001b[0m \u001b[1m0s\u001b[0m 77ms/step\n",
      "\u001b[1m1/1\u001b[0m \u001b[32m━━━━━━━━━━━━━━━━━━━━\u001b[0m\u001b[37m\u001b[0m \u001b[1m0s\u001b[0m 75ms/step\n",
      "\u001b[1m1/1\u001b[0m \u001b[32m━━━━━━━━━━━━━━━━━━━━\u001b[0m\u001b[37m\u001b[0m \u001b[1m0s\u001b[0m 76ms/step\n",
      "\u001b[1m1/1\u001b[0m \u001b[32m━━━━━━━━━━━━━━━━━━━━\u001b[0m\u001b[37m\u001b[0m \u001b[1m0s\u001b[0m 75ms/step\n",
      "\u001b[1m1/1\u001b[0m \u001b[32m━━━━━━━━━━━━━━━━━━━━\u001b[0m\u001b[37m\u001b[0m \u001b[1m0s\u001b[0m 329ms/step\n",
      "Average BLEU Score: 0.9677510077767629\n"
     ]
    }
   ],
   "source": [
    "import numpy as np\n",
    "from nltk.translate.bleu_score import sentence_bleu\n",
    "import tensorflow as tf\n",
    "def evaluate_model_and_bleu(X_test, y_test, model, tokenizer_urdu, batch_size=64):\n",
    "    num_batches = len(X_test) // batch_size + int(len(X_test) % batch_size != 0)\n",
    "    bleu_scores = []\n",
    "\n",
    "    for batch in range(num_batches):\n",
    "        # Get the batch data\n",
    "        start_idx = batch * batch_size\n",
    "        end_idx = min((batch + 1) * batch_size, len(X_test))\n",
    "\n",
    "        eng_batch = X_test[start_idx:end_idx]\n",
    "        urdu_batch = y_test[start_idx:end_idx]\n",
    "\n",
    "        # Generate predictions in batches\n",
    "        predictions = model.predict(eng_batch, batch_size=batch_size)\n",
    "\n",
    "        for i, prediction in enumerate(predictions):\n",
    "            reference = [urdu_batch[i]]  # Reference translation (true output)\n",
    "            candidate = np.argmax(prediction, axis=-1)  # Predicted sequence\n",
    "\n",
    "            # Calculate BLEU score for each prediction\n",
    "            bleu_scores.append(sentence_bleu(reference, candidate))\n",
    "\n",
    "        # Clear session to avoid memory buildup\n",
    "        tf.keras.backend.clear_session()\n",
    "\n",
    "    avg_bleu = np.mean(bleu_scores)\n",
    "    print(f\"Average BLEU Score: {avg_bleu}\")\n",
    "\n",
    "# Evaluate the model and calculate BLEU score\n",
    "evaluate_model_and_bleu(X_test, y_test, model, tokenizer_urdu, batch_size=64)"
   ]
  },
  {
   "cell_type": "markdown",
   "id": "PW4Z_9s9Qz7S",
   "metadata": {
    "id": "PW4Z_9s9Qz7S"
   },
   "source": [
    "# TASK#2 Discuss the limitations of RNNs in the context of language translation."
   ]
  },
  {
   "cell_type": "markdown",
   "id": "J6AVa_GZRASK",
   "metadata": {
    "id": "J6AVa_GZRASK"
   },
   "source": [
    "**1- Exploding/Vanishing Gradients:**"
   ]
  },
  {
   "cell_type": "markdown",
   "id": "TsbPDjKiREvY",
   "metadata": {
    "id": "TsbPDjKiREvY"
   },
   "source": [
    "EXAMPLE:"
   ]
  },
  {
   "cell_type": "code",
   "execution_count": 20,
   "id": "g24ASi-UP4_h",
   "metadata": {
    "colab": {
     "base_uri": "https://localhost:8080/"
    },
    "id": "g24ASi-UP4_h",
    "outputId": "174791a5-13de-40e2-98cc-0d46c079d325"
   },
   "outputs": [
    {
     "name": "stdout",
     "output_type": "stream",
     "text": [
      "\u001b[1m1/1\u001b[0m \u001b[32m━━━━━━━━━━━━━━━━━━━━\u001b[0m\u001b[37m\u001b[0m \u001b[1m0s\u001b[0m 383ms/step\n",
      "Predicted Urdu Sequence for Long Sentence:  [[[2.8729849e-03 3.5539649e-03 9.7151287e-03 ... 9.7053380e-08\n",
      "   5.2396132e-08 2.1604309e-07]\n",
      "  [4.6684272e-03 8.9687154e-02 1.8029211e-02 ... 1.7216088e-07\n",
      "   2.2301222e-08 1.0431236e-07]\n",
      "  [4.9917400e-04 6.3842013e-02 2.5521915e-02 ... 6.7825049e-06\n",
      "   9.7747538e-08 1.5931319e-06]\n",
      "  ...\n",
      "  [9.9989069e-01 4.4743188e-06 2.8644899e-06 ... 5.4186853e-11\n",
      "   6.2816826e-12 1.1026384e-10]\n",
      "  [9.9989069e-01 4.4743188e-06 2.8644899e-06 ... 5.4186853e-11\n",
      "   6.2816826e-12 1.1026384e-10]\n",
      "  [9.9989069e-01 4.4743188e-06 2.8644899e-06 ... 5.4186853e-11\n",
      "   6.2816826e-12 1.1026384e-10]]]\n"
     ]
    }
   ],
   "source": [
    "# Let's assume a long sequence for demonstration\n",
    "long_sentence = \"He decided to visit the market after completing all the tasks assigned to him which were quite numerous and took a lot of time, but he was determined to finish them.\"\n",
    "\n",
    "# Tokenize and pad the long sentence (demonstration of vanishing gradient problem)\n",
    "long_sequence = tokenizer_eng.texts_to_sequences([long_sentence])\n",
    "long_padded_sequence = pad_sequences(long_sequence, maxlen=max_eng_len, padding='post')\n",
    "\n",
    "# Feed the long sequence to the model to see how it handles long-term dependencies\n",
    "predicted_output = model.predict(long_padded_sequence)\n",
    "\n",
    "print(\"Predicted Urdu Sequence for Long Sentence: \", predicted_output)"
   ]
  },
  {
   "cell_type": "markdown",
   "id": "DaI7KsrRRGps",
   "metadata": {
    "id": "DaI7KsrRRGps"
   },
   "source": [
    "\n",
    "The very high probability (close to 1) for early tokens and the extremely small probabilities (near zero) for later tokens suggest that the model struggles to retain information as it moves through the sequence, which is a sign of vanishing gradients.\n",
    "The model's decreasing confidence in its predictions as the sequence progresses indicates that the gradient might be diminishing during training, making it difficult to learn long-term dependencies."
   ]
  },
  {
   "cell_type": "markdown",
   "id": "zzBJ6S5ARWGN",
   "metadata": {
    "id": "zzBJ6S5ARWGN"
   },
   "source": [
    "**2-Difficulty Capturing Long-Term Dependencies (especially with complex grammar)**"
   ]
  },
  {
   "cell_type": "code",
   "execution_count": 21,
   "id": "alnzDhFkQBM6",
   "metadata": {
    "colab": {
     "base_uri": "https://localhost:8080/"
    },
    "id": "alnzDhFkQBM6",
    "outputId": "a1d05eb5-9c87-48c6-c60b-4893211c62f0"
   },
   "outputs": [
    {
     "name": "stdout",
     "output_type": "stream",
     "text": [
      "\u001b[1m1/1\u001b[0m \u001b[32m━━━━━━━━━━━━━━━━━━━━\u001b[0m\u001b[37m\u001b[0m \u001b[1m0s\u001b[0m 20ms/step\n",
      "Predicted Urdu Sequence for Complex Sentence:  [[[2.8729849e-03 3.5539649e-03 9.7151287e-03 ... 9.7053380e-08\n",
      "   5.2396132e-08 2.1604309e-07]\n",
      "  [4.8649600e-03 2.6750430e-02 1.2803078e-02 ... 1.3135704e-07\n",
      "   4.4210537e-08 9.4100464e-08]\n",
      "  [3.7445284e-03 2.8256020e-02 3.6627870e-02 ... 3.4349059e-06\n",
      "   8.5797367e-08 9.1907373e-07]\n",
      "  ...\n",
      "  [9.9989069e-01 4.4743188e-06 2.8644899e-06 ... 5.4186853e-11\n",
      "   6.2816826e-12 1.1026384e-10]\n",
      "  [9.9989069e-01 4.4743188e-06 2.8644899e-06 ... 5.4186853e-11\n",
      "   6.2816826e-12 1.1026384e-10]\n",
      "  [9.9989069e-01 4.4743188e-06 2.8644899e-06 ... 5.4186853e-11\n",
      "   6.2816826e-12 1.1026384e-10]]]\n"
     ]
    }
   ],
   "source": [
    "# Complex English sentence with long-term dependency\n",
    "complex_sentence = \"He will go to the market after finishing his work.\"\n",
    "\n",
    "# Tokenize and pad the complex sentence\n",
    "complex_sequence = tokenizer_eng.texts_to_sequences([complex_sentence])\n",
    "complex_padded_sequence = pad_sequences(complex_sequence, maxlen=max_eng_len, padding='post')\n",
    "\n",
    "# Feed the complex sentence into the model\n",
    "predicted_output_complex = model.predict(complex_padded_sequence)\n",
    "\n",
    "print(\"Predicted Urdu Sequence for Complex Sentence: \", predicted_output_complex)"
   ]
  },
  {
   "cell_type": "markdown",
   "id": "62m-1xPERcUh",
   "metadata": {
    "id": "62m-1xPERcUh"
   },
   "source": [
    "The output probabilities demonstrate that your simple RNN is struggling to capture long-term dependencies in a sentence with complex grammar. This is reflected in the drop in confidence for later words, as the model cannot retain earlier information effectively. Switching to LSTMs, GRUs, or attention mechanisms would significantly improve the model's ability to handle such sentences."
   ]
  },
  {
   "cell_type": "markdown",
   "id": "Kp4v0ImORcpa",
   "metadata": {
    "id": "Kp4v0ImORcpa"
   },
   "source": [
    "**3-Poor Performance on Large Datasets with Complex Language Pairs**"
   ]
  },
  {
   "cell_type": "code",
   "execution_count": 22,
   "id": "cqNMlgSLQD-W",
   "metadata": {
    "colab": {
     "base_uri": "https://localhost:8080/"
    },
    "id": "cqNMlgSLQD-W",
    "outputId": "47c8677c-ef28-4f55-f18a-c8d758aba0f4"
   },
   "outputs": [
    {
     "name": "stdout",
     "output_type": "stream",
     "text": [
      "\u001b[1m1/1\u001b[0m \u001b[32m━━━━━━━━━━━━━━━━━━━━\u001b[0m\u001b[37m\u001b[0m \u001b[1m0s\u001b[0m 19ms/step\n",
      "Predicted Urdu Sequence for Complex Sentence:  [[[2.8729849e-03 3.5539649e-03 9.7151287e-03 ... 9.7053380e-08\n",
      "   5.2396132e-08 2.1604309e-07]\n",
      "  [4.8649600e-03 2.6750430e-02 1.2803078e-02 ... 1.3135704e-07\n",
      "   4.4210537e-08 9.4100464e-08]\n",
      "  [3.7445284e-03 2.8256020e-02 3.6627870e-02 ... 3.4349059e-06\n",
      "   8.5797367e-08 9.1907373e-07]\n",
      "  ...\n",
      "  [9.9989069e-01 4.4743188e-06 2.8644899e-06 ... 5.4186853e-11\n",
      "   6.2816826e-12 1.1026384e-10]\n",
      "  [9.9989069e-01 4.4743188e-06 2.8644899e-06 ... 5.4186853e-11\n",
      "   6.2816826e-12 1.1026384e-10]\n",
      "  [9.9989069e-01 4.4743188e-06 2.8644899e-06 ... 5.4186853e-11\n",
      "   6.2816826e-12 1.1026384e-10]]]\n"
     ]
    }
   ],
   "source": [
    "# Complex English sentence with long-term dependency\n",
    "complex_sentence = \"He will go to the market after finishing his work.\"\n",
    "\n",
    "# Tokenize and pad the complex sentence\n",
    "complex_sequence = tokenizer_eng.texts_to_sequences([complex_sentence])\n",
    "complex_padded_sequence = pad_sequences(complex_sequence, maxlen=max_eng_len, padding='post')\n",
    "\n",
    "# Feed the complex sentence into the model\n",
    "predicted_output_complex = model.predict(complex_padded_sequence)\n",
    "\n",
    "print(\"Predicted Urdu Sequence for Complex Sentence: \", predicted_output_complex)"
   ]
  },
  {
   "cell_type": "markdown",
   "id": "KV_SJfUHSNU8",
   "metadata": {
    "id": "KV_SJfUHSNU8"
   },
   "source": [
    "The output shows poor performance on large datasets and complex language pairs in the following ways:\n",
    "\n",
    "Low confidence for many tokens, indicating the model is uncertain about the correct translation.\n",
    "Overconfidence in some tokens, suggesting it may have memorized common patterns but fails to generalize to more complex, less frequent sentence structures.\n",
    "Struggles with complex grammar and long-term dependencies, which is evident from the uneven confidence across the sentence.\n",
    "To improve performance, switching to LSTMs or GRUs, adding attention, or using Transformers would likely yield better results in such complex tasks."
   ]
  },
  {
   "cell_type": "markdown",
   "id": "58fe811b-94d8-4dfc-a06b-dcea6c0f7409",
   "metadata": {
    "id": "58fe811b-94d8-4dfc-a06b-dcea6c0f7409"
   },
   "source": [
    "# REPLACING RNN WITH LSTM"
   ]
  },
  {
   "cell_type": "code",
   "execution_count": 23,
   "id": "b99cfd59-e012-4664-8163-a8467b59246e",
   "metadata": {
    "colab": {
     "base_uri": "https://localhost:8080/"
    },
    "id": "b99cfd59-e012-4664-8163-a8467b59246e",
    "outputId": "301a010d-f3ff-49ec-abde-08c06a1c7822"
   },
   "outputs": [
    {
     "name": "stdout",
     "output_type": "stream",
     "text": [
      "Epoch 1/6\n"
     ]
    },
    {
     "name": "stderr",
     "output_type": "stream",
     "text": [
      "/usr/local/lib/python3.10/dist-packages/keras/src/layers/core/embedding.py:90: UserWarning: Argument `input_length` is deprecated. Just remove it.\n",
      "  warnings.warn(\n"
     ]
    },
    {
     "name": "stdout",
     "output_type": "stream",
     "text": [
      "\u001b[1m741/741\u001b[0m \u001b[32m━━━━━━━━━━━━━━━━━━━━\u001b[0m\u001b[37m\u001b[0m \u001b[1m49s\u001b[0m 62ms/step - accuracy: 0.9567 - loss: 0.9702 - val_accuracy: 0.9669 - val_loss: 0.2386\n",
      "Epoch 2/6\n",
      "\u001b[1m741/741\u001b[0m \u001b[32m━━━━━━━━━━━━━━━━━━━━\u001b[0m\u001b[37m\u001b[0m \u001b[1m46s\u001b[0m 62ms/step - accuracy: 0.9659 - loss: 0.2460 - val_accuracy: 0.9674 - val_loss: 0.2289\n",
      "Epoch 3/6\n",
      "\u001b[1m741/741\u001b[0m \u001b[32m━━━━━━━━━━━━━━━━━━━━\u001b[0m\u001b[37m\u001b[0m \u001b[1m46s\u001b[0m 62ms/step - accuracy: 0.9672 - loss: 0.2304 - val_accuracy: 0.9679 - val_loss: 0.2223\n",
      "Epoch 4/6\n",
      "\u001b[1m741/741\u001b[0m \u001b[32m━━━━━━━━━━━━━━━━━━━━\u001b[0m\u001b[37m\u001b[0m \u001b[1m46s\u001b[0m 62ms/step - accuracy: 0.9676 - loss: 0.2227 - val_accuracy: 0.9684 - val_loss: 0.2156\n",
      "Epoch 5/6\n",
      "\u001b[1m741/741\u001b[0m \u001b[32m━━━━━━━━━━━━━━━━━━━━\u001b[0m\u001b[37m\u001b[0m \u001b[1m46s\u001b[0m 62ms/step - accuracy: 0.9680 - loss: 0.2163 - val_accuracy: 0.9689 - val_loss: 0.2101\n",
      "Epoch 6/6\n",
      "\u001b[1m741/741\u001b[0m \u001b[32m━━━━━━━━━━━━━━━━━━━━\u001b[0m\u001b[37m\u001b[0m \u001b[1m46s\u001b[0m 62ms/step - accuracy: 0.9686 - loss: 0.2072 - val_accuracy: 0.9692 - val_loss: 0.2071\n",
      "\u001b[1m186/186\u001b[0m \u001b[32m━━━━━━━━━━━━━━━━━━━━\u001b[0m\u001b[37m\u001b[0m \u001b[1m6s\u001b[0m 34ms/step - accuracy: 0.9692 - loss: 0.2079\n"
     ]
    },
    {
     "data": {
      "text/plain": [
       "[0.20712171494960785, 0.9692283868789673]"
      ]
     },
     "execution_count": 23,
     "metadata": {},
     "output_type": "execute_result"
    }
   ],
   "source": [
    "import pandas as pd\n",
    "from sklearn.model_selection import train_test_split\n",
    "from tensorflow.keras.preprocessing.text import Tokenizer\n",
    "from tensorflow.keras.preprocessing.sequence import pad_sequences\n",
    "import tensorflow as tf\n",
    "from tensorflow.keras.models import Sequential\n",
    "from tensorflow.keras.layers import Embedding, LSTM, Dense, Dropout\n",
    "\n",
    "# Select relevant columns (English and Urdu) and drop missing values\n",
    "cleaned_data = data[['SENTENCES ', 'MEANING']].dropna()\n",
    "\n",
    "# Rename the columns for convenience\n",
    "cleaned_data.columns = ['English', 'Urdu']\n",
    "\n",
    "# Ensure all sentences are treated as strings\n",
    "cleaned_data['English'] = cleaned_data['English'].astype(str)\n",
    "cleaned_data['Urdu'] = cleaned_data['Urdu'].astype(str)\n",
    "\n",
    "# Extract English and Urdu sentences\n",
    "english_sentences = cleaned_data['English'].values\n",
    "urdu_sentences = cleaned_data['Urdu'].values\n",
    "\n",
    "# Tokenize English sentences\n",
    "tokenizer_eng = Tokenizer()\n",
    "tokenizer_eng.fit_on_texts(english_sentences)\n",
    "english_sequences = tokenizer_eng.texts_to_sequences(english_sentences)\n",
    "max_eng_len = max([len(seq) for seq in english_sequences])  # Maximum sequence length for padding\n",
    "\n",
    "# Tokenize Urdu sentences\n",
    "tokenizer_urdu = Tokenizer()\n",
    "tokenizer_urdu.fit_on_texts(urdu_sentences)\n",
    "urdu_sequences = tokenizer_urdu.texts_to_sequences(urdu_sentences)\n",
    "\n",
    "# Padding both English and Urdu sequences to ensure they are the same length\n",
    "english_padded = pad_sequences(english_sequences, maxlen=max_eng_len, padding='post')\n",
    "urdu_padded = pad_sequences(urdu_sequences, maxlen=max_eng_len, padding='post')\n",
    "\n",
    "# Split the data into training and testing sets (80% train, 20% test)\n",
    "X_train, X_test, y_train, y_test = train_test_split(english_padded, urdu_padded, test_size=0.2)\n",
    "\n",
    "# Define the LSTM-based model\n",
    "model_lstm = Sequential()  # Corrected the model instantiation\n",
    "model_lstm.add(Embedding(input_dim=len(tokenizer_eng.word_index)+1, output_dim=256, input_length=max_eng_len))\n",
    "model_lstm.add(LSTM(256, return_sequences=True))  # Many-to-many LSTM\n",
    "model_lstm.add(Dropout(0.5))  # Adding a Dropout layer to help prevent overfitting\n",
    "model_lstm.add(Dense(len(tokenizer_urdu.word_index)+1, activation='softmax'))\n",
    "\n",
    "# Compile the model\n",
    "model_lstm.compile(optimizer='adam', loss='sparse_categorical_crossentropy', metrics=['accuracy'])\n",
    "\n",
    "# Train the model\n",
    "history = model_lstm.fit(X_train, y_train, epochs=6, validation_data=(X_test, y_test))\n",
    "\n",
    "# Evaluate the model\n",
    "model_lstm.evaluate(X_test, y_test)\n"
   ]
  },
  {
   "cell_type": "markdown",
   "id": "5fe40acf",
   "metadata": {},
   "source": [
    "# Evaluating Model Performance with BLEU Score in TensorFlow\n",
    "This block defines a function evaluate_model_and_bleu for evaluating a model's performance using BLEU scores. It processes batches of test data, computes BLEU scores for model predictions against reference translations, and calculates the average BLEU score. It uses TensorFlow and NLTK for the evaluation."
   ]
  },
  {
   "cell_type": "code",
   "execution_count": 14,
   "id": "q4FElck79Frv",
   "metadata": {
    "colab": {
     "base_uri": "https://localhost:8080/"
    },
    "id": "q4FElck79Frv",
    "outputId": "e4f50678-dbf8-490f-d4f9-e1ce7df4ae92"
   },
   "outputs": [
    {
     "name": "stdout",
     "output_type": "stream",
     "text": [
      "\u001b[1m1/1\u001b[0m \u001b[32m━━━━━━━━━━━━━━━━━━━━\u001b[0m\u001b[37m\u001b[0m \u001b[1m0s\u001b[0m 61ms/step\n",
      "\u001b[1m1/1\u001b[0m \u001b[32m━━━━━━━━━━━━━━━━━━━━\u001b[0m\u001b[37m\u001b[0m \u001b[1m0s\u001b[0m 70ms/step\n",
      "\u001b[1m1/1\u001b[0m \u001b[32m━━━━━━━━━━━━━━━━━━━━\u001b[0m\u001b[37m\u001b[0m \u001b[1m0s\u001b[0m 68ms/step\n",
      "\u001b[1m1/1\u001b[0m \u001b[32m━━━━━━━━━━━━━━━━━━━━\u001b[0m\u001b[37m\u001b[0m \u001b[1m0s\u001b[0m 69ms/step\n",
      "\u001b[1m1/1\u001b[0m \u001b[32m━━━━━━━━━━━━━━━━━━━━\u001b[0m\u001b[37m\u001b[0m \u001b[1m0s\u001b[0m 69ms/step\n",
      "\u001b[1m1/1\u001b[0m \u001b[32m━━━━━━━━━━━━━━━━━━━━\u001b[0m\u001b[37m\u001b[0m \u001b[1m0s\u001b[0m 69ms/step\n",
      "\u001b[1m1/1\u001b[0m \u001b[32m━━━━━━━━━━━━━━━━━━━━\u001b[0m\u001b[37m\u001b[0m \u001b[1m0s\u001b[0m 69ms/step\n",
      "\u001b[1m1/1\u001b[0m \u001b[32m━━━━━━━━━━━━━━━━━━━━\u001b[0m\u001b[37m\u001b[0m \u001b[1m0s\u001b[0m 72ms/step\n",
      "\u001b[1m1/1\u001b[0m \u001b[32m━━━━━━━━━━━━━━━━━━━━\u001b[0m\u001b[37m\u001b[0m \u001b[1m0s\u001b[0m 69ms/step\n",
      "\u001b[1m1/1\u001b[0m \u001b[32m━━━━━━━━━━━━━━━━━━━━\u001b[0m\u001b[37m\u001b[0m \u001b[1m0s\u001b[0m 69ms/step\n",
      "\u001b[1m1/1\u001b[0m \u001b[32m━━━━━━━━━━━━━━━━━━━━\u001b[0m\u001b[37m\u001b[0m \u001b[1m0s\u001b[0m 69ms/step\n",
      "\u001b[1m1/1\u001b[0m \u001b[32m━━━━━━━━━━━━━━━━━━━━\u001b[0m\u001b[37m\u001b[0m \u001b[1m0s\u001b[0m 68ms/step\n",
      "\u001b[1m1/1\u001b[0m \u001b[32m━━━━━━━━━━━━━━━━━━━━\u001b[0m\u001b[37m\u001b[0m \u001b[1m0s\u001b[0m 68ms/step\n",
      "\u001b[1m1/1\u001b[0m \u001b[32m━━━━━━━━━━━━━━━━━━━━\u001b[0m\u001b[37m\u001b[0m \u001b[1m0s\u001b[0m 69ms/step\n",
      "\u001b[1m1/1\u001b[0m \u001b[32m━━━━━━━━━━━━━━━━━━━━\u001b[0m\u001b[37m\u001b[0m \u001b[1m0s\u001b[0m 71ms/step\n",
      "\u001b[1m1/1\u001b[0m \u001b[32m━━━━━━━━━━━━━━━━━━━━\u001b[0m\u001b[37m\u001b[0m \u001b[1m0s\u001b[0m 68ms/step\n",
      "\u001b[1m1/1\u001b[0m \u001b[32m━━━━━━━━━━━━━━━━━━━━\u001b[0m\u001b[37m\u001b[0m \u001b[1m0s\u001b[0m 68ms/step\n",
      "\u001b[1m1/1\u001b[0m \u001b[32m━━━━━━━━━━━━━━━━━━━━\u001b[0m\u001b[37m\u001b[0m \u001b[1m0s\u001b[0m 68ms/step\n"
     ]
    },
    {
     "name": "stderr",
     "output_type": "stream",
     "text": [
      "/usr/local/lib/python3.10/dist-packages/nltk/translate/bleu_score.py:552: UserWarning: \n",
      "The hypothesis contains 0 counts of 3-gram overlaps.\n",
      "Therefore the BLEU score evaluates to 0, independently of\n",
      "how many N-gram overlaps of lower order it contains.\n",
      "Consider using lower n-gram order or use SmoothingFunction()\n",
      "  warnings.warn(_msg)\n",
      "/usr/local/lib/python3.10/dist-packages/nltk/translate/bleu_score.py:552: UserWarning: \n",
      "The hypothesis contains 0 counts of 4-gram overlaps.\n",
      "Therefore the BLEU score evaluates to 0, independently of\n",
      "how many N-gram overlaps of lower order it contains.\n",
      "Consider using lower n-gram order or use SmoothingFunction()\n",
      "  warnings.warn(_msg)\n"
     ]
    },
    {
     "name": "stdout",
     "output_type": "stream",
     "text": [
      "\u001b[1m1/1\u001b[0m \u001b[32m━━━━━━━━━━━━━━━━━━━━\u001b[0m\u001b[37m\u001b[0m \u001b[1m0s\u001b[0m 69ms/step\n",
      "\u001b[1m1/1\u001b[0m \u001b[32m━━━━━━━━━━━━━━━━━━━━\u001b[0m\u001b[37m\u001b[0m \u001b[1m0s\u001b[0m 68ms/step\n",
      "\u001b[1m1/1\u001b[0m \u001b[32m━━━━━━━━━━━━━━━━━━━━\u001b[0m\u001b[37m\u001b[0m \u001b[1m0s\u001b[0m 68ms/step\n",
      "\u001b[1m1/1\u001b[0m \u001b[32m━━━━━━━━━━━━━━━━━━━━\u001b[0m\u001b[37m\u001b[0m \u001b[1m0s\u001b[0m 70ms/step\n",
      "\u001b[1m1/1\u001b[0m \u001b[32m━━━━━━━━━━━━━━━━━━━━\u001b[0m\u001b[37m\u001b[0m \u001b[1m0s\u001b[0m 71ms/step\n",
      "\u001b[1m1/1\u001b[0m \u001b[32m━━━━━━━━━━━━━━━━━━━━\u001b[0m\u001b[37m\u001b[0m \u001b[1m0s\u001b[0m 68ms/step\n",
      "\u001b[1m1/1\u001b[0m \u001b[32m━━━━━━━━━━━━━━━━━━━━\u001b[0m\u001b[37m\u001b[0m \u001b[1m0s\u001b[0m 68ms/step\n",
      "\u001b[1m1/1\u001b[0m \u001b[32m━━━━━━━━━━━━━━━━━━━━\u001b[0m\u001b[37m\u001b[0m \u001b[1m0s\u001b[0m 69ms/step\n",
      "\u001b[1m1/1\u001b[0m \u001b[32m━━━━━━━━━━━━━━━━━━━━\u001b[0m\u001b[37m\u001b[0m \u001b[1m0s\u001b[0m 67ms/step\n",
      "\u001b[1m1/1\u001b[0m \u001b[32m━━━━━━━━━━━━━━━━━━━━\u001b[0m\u001b[37m\u001b[0m \u001b[1m0s\u001b[0m 68ms/step\n",
      "\u001b[1m1/1\u001b[0m \u001b[32m━━━━━━━━━━━━━━━━━━━━\u001b[0m\u001b[37m\u001b[0m \u001b[1m0s\u001b[0m 68ms/step\n",
      "\u001b[1m1/1\u001b[0m \u001b[32m━━━━━━━━━━━━━━━━━━━━\u001b[0m\u001b[37m\u001b[0m \u001b[1m0s\u001b[0m 68ms/step\n",
      "\u001b[1m1/1\u001b[0m \u001b[32m━━━━━━━━━━━━━━━━━━━━\u001b[0m\u001b[37m\u001b[0m \u001b[1m0s\u001b[0m 68ms/step\n",
      "\u001b[1m1/1\u001b[0m \u001b[32m━━━━━━━━━━━━━━━━━━━━\u001b[0m\u001b[37m\u001b[0m \u001b[1m0s\u001b[0m 70ms/step\n",
      "\u001b[1m1/1\u001b[0m \u001b[32m━━━━━━━━━━━━━━━━━━━━\u001b[0m\u001b[37m\u001b[0m \u001b[1m0s\u001b[0m 67ms/step\n",
      "\u001b[1m1/1\u001b[0m \u001b[32m━━━━━━━━━━━━━━━━━━━━\u001b[0m\u001b[37m\u001b[0m \u001b[1m0s\u001b[0m 68ms/step\n",
      "\u001b[1m1/1\u001b[0m \u001b[32m━━━━━━━━━━━━━━━━━━━━\u001b[0m\u001b[37m\u001b[0m \u001b[1m0s\u001b[0m 67ms/step\n",
      "\u001b[1m1/1\u001b[0m \u001b[32m━━━━━━━━━━━━━━━━━━━━\u001b[0m\u001b[37m\u001b[0m \u001b[1m0s\u001b[0m 68ms/step\n",
      "\u001b[1m1/1\u001b[0m \u001b[32m━━━━━━━━━━━━━━━━━━━━\u001b[0m\u001b[37m\u001b[0m \u001b[1m0s\u001b[0m 71ms/step\n",
      "\u001b[1m1/1\u001b[0m \u001b[32m━━━━━━━━━━━━━━━━━━━━\u001b[0m\u001b[37m\u001b[0m \u001b[1m0s\u001b[0m 83ms/step\n",
      "\u001b[1m1/1\u001b[0m \u001b[32m━━━━━━━━━━━━━━━━━━━━\u001b[0m\u001b[37m\u001b[0m \u001b[1m0s\u001b[0m 68ms/step\n",
      "\u001b[1m1/1\u001b[0m \u001b[32m━━━━━━━━━━━━━━━━━━━━\u001b[0m\u001b[37m\u001b[0m \u001b[1m0s\u001b[0m 69ms/step\n",
      "\u001b[1m1/1\u001b[0m \u001b[32m━━━━━━━━━━━━━━━━━━━━\u001b[0m\u001b[37m\u001b[0m \u001b[1m0s\u001b[0m 68ms/step\n",
      "\u001b[1m1/1\u001b[0m \u001b[32m━━━━━━━━━━━━━━━━━━━━\u001b[0m\u001b[37m\u001b[0m \u001b[1m0s\u001b[0m 68ms/step\n",
      "\u001b[1m1/1\u001b[0m \u001b[32m━━━━━━━━━━━━━━━━━━━━\u001b[0m\u001b[37m\u001b[0m \u001b[1m0s\u001b[0m 68ms/step\n",
      "\u001b[1m1/1\u001b[0m \u001b[32m━━━━━━━━━━━━━━━━━━━━\u001b[0m\u001b[37m\u001b[0m \u001b[1m0s\u001b[0m 68ms/step\n",
      "\u001b[1m1/1\u001b[0m \u001b[32m━━━━━━━━━━━━━━━━━━━━\u001b[0m\u001b[37m\u001b[0m \u001b[1m0s\u001b[0m 68ms/step\n",
      "\u001b[1m1/1\u001b[0m \u001b[32m━━━━━━━━━━━━━━━━━━━━\u001b[0m\u001b[37m\u001b[0m \u001b[1m0s\u001b[0m 68ms/step\n",
      "\u001b[1m1/1\u001b[0m \u001b[32m━━━━━━━━━━━━━━━━━━━━\u001b[0m\u001b[37m\u001b[0m \u001b[1m0s\u001b[0m 67ms/step\n",
      "\u001b[1m1/1\u001b[0m \u001b[32m━━━━━━━━━━━━━━━━━━━━\u001b[0m\u001b[37m\u001b[0m \u001b[1m0s\u001b[0m 69ms/step\n",
      "\u001b[1m1/1\u001b[0m \u001b[32m━━━━━━━━━━━━━━━━━━━━\u001b[0m\u001b[37m\u001b[0m \u001b[1m0s\u001b[0m 69ms/step\n",
      "\u001b[1m1/1\u001b[0m \u001b[32m━━━━━━━━━━━━━━━━━━━━\u001b[0m\u001b[37m\u001b[0m \u001b[1m0s\u001b[0m 68ms/step\n",
      "\u001b[1m1/1\u001b[0m \u001b[32m━━━━━━━━━━━━━━━━━━━━\u001b[0m\u001b[37m\u001b[0m \u001b[1m0s\u001b[0m 68ms/step\n",
      "\u001b[1m1/1\u001b[0m \u001b[32m━━━━━━━━━━━━━━━━━━━━\u001b[0m\u001b[37m\u001b[0m \u001b[1m0s\u001b[0m 72ms/step\n",
      "\u001b[1m1/1\u001b[0m \u001b[32m━━━━━━━━━━━━━━━━━━━━\u001b[0m\u001b[37m\u001b[0m \u001b[1m0s\u001b[0m 69ms/step\n",
      "\u001b[1m1/1\u001b[0m \u001b[32m━━━━━━━━━━━━━━━━━━━━\u001b[0m\u001b[37m\u001b[0m \u001b[1m0s\u001b[0m 68ms/step\n",
      "\u001b[1m1/1\u001b[0m \u001b[32m━━━━━━━━━━━━━━━━━━━━\u001b[0m\u001b[37m\u001b[0m \u001b[1m0s\u001b[0m 69ms/step\n",
      "\u001b[1m1/1\u001b[0m \u001b[32m━━━━━━━━━━━━━━━━━━━━\u001b[0m\u001b[37m\u001b[0m \u001b[1m0s\u001b[0m 69ms/step\n",
      "\u001b[1m1/1\u001b[0m \u001b[32m━━━━━━━━━━━━━━━━━━━━\u001b[0m\u001b[37m\u001b[0m \u001b[1m0s\u001b[0m 69ms/step\n",
      "\u001b[1m1/1\u001b[0m \u001b[32m━━━━━━━━━━━━━━━━━━━━\u001b[0m\u001b[37m\u001b[0m \u001b[1m0s\u001b[0m 68ms/step\n",
      "\u001b[1m1/1\u001b[0m \u001b[32m━━━━━━━━━━━━━━━━━━━━\u001b[0m\u001b[37m\u001b[0m \u001b[1m0s\u001b[0m 70ms/step\n",
      "\u001b[1m1/1\u001b[0m \u001b[32m━━━━━━━━━━━━━━━━━━━━\u001b[0m\u001b[37m\u001b[0m \u001b[1m0s\u001b[0m 71ms/step\n",
      "\u001b[1m1/1\u001b[0m \u001b[32m━━━━━━━━━━━━━━━━━━━━\u001b[0m\u001b[37m\u001b[0m \u001b[1m0s\u001b[0m 68ms/step\n",
      "\u001b[1m1/1\u001b[0m \u001b[32m━━━━━━━━━━━━━━━━━━━━\u001b[0m\u001b[37m\u001b[0m \u001b[1m0s\u001b[0m 69ms/step\n",
      "\u001b[1m1/1\u001b[0m \u001b[32m━━━━━━━━━━━━━━━━━━━━\u001b[0m\u001b[37m\u001b[0m \u001b[1m0s\u001b[0m 68ms/step\n",
      "\u001b[1m1/1\u001b[0m \u001b[32m━━━━━━━━━━━━━━━━━━━━\u001b[0m\u001b[37m\u001b[0m \u001b[1m0s\u001b[0m 70ms/step\n",
      "\u001b[1m1/1\u001b[0m \u001b[32m━━━━━━━━━━━━━━━━━━━━\u001b[0m\u001b[37m\u001b[0m \u001b[1m0s\u001b[0m 68ms/step\n",
      "\u001b[1m1/1\u001b[0m \u001b[32m━━━━━━━━━━━━━━━━━━━━\u001b[0m\u001b[37m\u001b[0m \u001b[1m0s\u001b[0m 70ms/step\n",
      "\u001b[1m1/1\u001b[0m \u001b[32m━━━━━━━━━━━━━━━━━━━━\u001b[0m\u001b[37m\u001b[0m \u001b[1m0s\u001b[0m 70ms/step\n",
      "\u001b[1m1/1\u001b[0m \u001b[32m━━━━━━━━━━━━━━━━━━━━\u001b[0m\u001b[37m\u001b[0m \u001b[1m0s\u001b[0m 69ms/step\n",
      "\u001b[1m1/1\u001b[0m \u001b[32m━━━━━━━━━━━━━━━━━━━━\u001b[0m\u001b[37m\u001b[0m \u001b[1m0s\u001b[0m 69ms/step\n",
      "\u001b[1m1/1\u001b[0m \u001b[32m━━━━━━━━━━━━━━━━━━━━\u001b[0m\u001b[37m\u001b[0m \u001b[1m0s\u001b[0m 69ms/step\n",
      "\u001b[1m1/1\u001b[0m \u001b[32m━━━━━━━━━━━━━━━━━━━━\u001b[0m\u001b[37m\u001b[0m \u001b[1m0s\u001b[0m 69ms/step\n",
      "\u001b[1m1/1\u001b[0m \u001b[32m━━━━━━━━━━━━━━━━━━━━\u001b[0m\u001b[37m\u001b[0m \u001b[1m0s\u001b[0m 69ms/step\n",
      "\u001b[1m1/1\u001b[0m \u001b[32m━━━━━━━━━━━━━━━━━━━━\u001b[0m\u001b[37m\u001b[0m \u001b[1m0s\u001b[0m 67ms/step\n",
      "\u001b[1m1/1\u001b[0m \u001b[32m━━━━━━━━━━━━━━━━━━━━\u001b[0m\u001b[37m\u001b[0m \u001b[1m0s\u001b[0m 70ms/step\n",
      "\u001b[1m1/1\u001b[0m \u001b[32m━━━━━━━━━━━━━━━━━━━━\u001b[0m\u001b[37m\u001b[0m \u001b[1m0s\u001b[0m 68ms/step\n",
      "\u001b[1m1/1\u001b[0m \u001b[32m━━━━━━━━━━━━━━━━━━━━\u001b[0m\u001b[37m\u001b[0m \u001b[1m0s\u001b[0m 69ms/step\n",
      "\u001b[1m1/1\u001b[0m \u001b[32m━━━━━━━━━━━━━━━━━━━━\u001b[0m\u001b[37m\u001b[0m \u001b[1m0s\u001b[0m 72ms/step\n",
      "\u001b[1m1/1\u001b[0m \u001b[32m━━━━━━━━━━━━━━━━━━━━\u001b[0m\u001b[37m\u001b[0m \u001b[1m0s\u001b[0m 68ms/step\n",
      "\u001b[1m1/1\u001b[0m \u001b[32m━━━━━━━━━━━━━━━━━━━━\u001b[0m\u001b[37m\u001b[0m \u001b[1m0s\u001b[0m 68ms/step\n",
      "\u001b[1m1/1\u001b[0m \u001b[32m━━━━━━━━━━━━━━━━━━━━\u001b[0m\u001b[37m\u001b[0m \u001b[1m0s\u001b[0m 68ms/step\n",
      "\u001b[1m1/1\u001b[0m \u001b[32m━━━━━━━━━━━━━━━━━━━━\u001b[0m\u001b[37m\u001b[0m \u001b[1m0s\u001b[0m 71ms/step\n",
      "\u001b[1m1/1\u001b[0m \u001b[32m━━━━━━━━━━━━━━━━━━━━\u001b[0m\u001b[37m\u001b[0m \u001b[1m0s\u001b[0m 70ms/step\n",
      "\u001b[1m1/1\u001b[0m \u001b[32m━━━━━━━━━━━━━━━━━━━━\u001b[0m\u001b[37m\u001b[0m \u001b[1m0s\u001b[0m 70ms/step\n",
      "\u001b[1m1/1\u001b[0m \u001b[32m━━━━━━━━━━━━━━━━━━━━\u001b[0m\u001b[37m\u001b[0m \u001b[1m0s\u001b[0m 69ms/step\n",
      "\u001b[1m1/1\u001b[0m \u001b[32m━━━━━━━━━━━━━━━━━━━━\u001b[0m\u001b[37m\u001b[0m \u001b[1m0s\u001b[0m 69ms/step\n",
      "\u001b[1m1/1\u001b[0m \u001b[32m━━━━━━━━━━━━━━━━━━━━\u001b[0m\u001b[37m\u001b[0m \u001b[1m0s\u001b[0m 68ms/step\n",
      "\u001b[1m1/1\u001b[0m \u001b[32m━━━━━━━━━━━━━━━━━━━━\u001b[0m\u001b[37m\u001b[0m \u001b[1m0s\u001b[0m 68ms/step\n",
      "\u001b[1m1/1\u001b[0m \u001b[32m━━━━━━━━━━━━━━━━━━━━\u001b[0m\u001b[37m\u001b[0m \u001b[1m0s\u001b[0m 69ms/step\n",
      "\u001b[1m1/1\u001b[0m \u001b[32m━━━━━━━━━━━━━━━━━━━━\u001b[0m\u001b[37m\u001b[0m \u001b[1m0s\u001b[0m 69ms/step\n",
      "\u001b[1m1/1\u001b[0m \u001b[32m━━━━━━━━━━━━━━━━━━━━\u001b[0m\u001b[37m\u001b[0m \u001b[1m0s\u001b[0m 69ms/step\n",
      "\u001b[1m1/1\u001b[0m \u001b[32m━━━━━━━━━━━━━━━━━━━━\u001b[0m\u001b[37m\u001b[0m \u001b[1m0s\u001b[0m 69ms/step\n",
      "\u001b[1m1/1\u001b[0m \u001b[32m━━━━━━━━━━━━━━━━━━━━\u001b[0m\u001b[37m\u001b[0m \u001b[1m0s\u001b[0m 69ms/step\n",
      "\u001b[1m1/1\u001b[0m \u001b[32m━━━━━━━━━━━━━━━━━━━━\u001b[0m\u001b[37m\u001b[0m \u001b[1m0s\u001b[0m 70ms/step\n",
      "Average BLEU Score: 0.9671300331629511\n"
     ]
    }
   ],
   "source": [
    "import numpy as np\n",
    "from nltk.translate.bleu_score import sentence_bleu\n",
    "import tensorflow as tf\n",
    "def evaluate_model_and_bleu(X_test, y_test, model, tokenizer_urdu, batch_size=64):\n",
    "    num_batches = len(X_test) // batch_size + int(len(X_test) % batch_size != 0)\n",
    "    bleu_scores = []\n",
    "\n",
    "    for batch in range(num_batches):\n",
    "        # Get the batch data\n",
    "        start_idx = batch * batch_size\n",
    "        end_idx = min((batch + 1) * batch_size, len(X_test))\n",
    "\n",
    "        eng_batch = X_test[start_idx:end_idx]\n",
    "        urdu_batch = y_test[start_idx:end_idx]\n",
    "\n",
    "        # Generate predictions in batches\n",
    "        predictions = model.predict(eng_batch, batch_size=batch_size)\n",
    "\n",
    "        for i, prediction in enumerate(predictions):\n",
    "            reference = [urdu_batch[i]]  # Reference translation (true output)\n",
    "            candidate = np.argmax(prediction, axis=-1)  # Predicted sequence\n",
    "\n",
    "            # Calculate BLEU score for each prediction\n",
    "            bleu_scores.append(sentence_bleu(reference, candidate))\n",
    "\n",
    "        # Clear session to avoid memory buildup\n",
    "        tf.keras.backend.clear_session()\n",
    "\n",
    "    avg_bleu = np.mean(bleu_scores)\n",
    "    print(f\"Average BLEU Score: {avg_bleu}\")\n",
    "\n",
    "# Evaluate the model and calculate BLEU score\n",
    "evaluate_model_and_bleu(X_test, y_test, model_lstm, tokenizer_urdu, batch_size=64)"
   ]
  },
  {
   "cell_type": "markdown",
   "id": "dd466001-db9a-4a92-99ae-b4007858f9e1",
   "metadata": {},
   "source": [
    "# COMPARISON"
   ]
  },
  {
   "cell_type": "markdown",
   "id": "44e19b97-dc6e-49cd-8cb1-3de87d56055d",
   "metadata": {},
   "source": [
    "# LSTM OVERCOMING RNNs LIMITATIONS:"
   ]
  },
  {
   "cell_type": "markdown",
   "id": "2mTcJoSSVtxU",
   "metadata": {
    "id": "2mTcJoSSVtxU"
   },
   "source": [
    "**1- Exploding/Vanishing Gradients:**"
   ]
  },
  {
   "cell_type": "code",
   "execution_count": 24,
   "id": "OUEq0cMVUO5b",
   "metadata": {
    "colab": {
     "base_uri": "https://localhost:8080/"
    },
    "id": "OUEq0cMVUO5b",
    "outputId": "899c406b-e15b-400d-db6d-ce9fb77f1146"
   },
   "outputs": [
    {
     "name": "stdout",
     "output_type": "stream",
     "text": [
      "\u001b[1m1/1\u001b[0m \u001b[32m━━━━━━━━━━━━━━━━━━━━\u001b[0m\u001b[37m\u001b[0m \u001b[1m0s\u001b[0m 117ms/step\n",
      "Predicted Urdu Sequence for Long Sentence:  [[[1.0475534e-03 1.5504397e-03 2.4779268e-02 ... 5.7445379e-07\n",
      "   6.3423937e-07 1.6991611e-07]\n",
      "  [6.9302373e-04 3.0304460e-02 9.4265593e-03 ... 2.8312272e-06\n",
      "   2.2865572e-06 1.1495930e-06]\n",
      "  [7.5565313e-04 6.9735996e-02 2.5694057e-02 ... 3.6804402e-06\n",
      "   3.2431794e-06 1.0016211e-06]\n",
      "  ...\n",
      "  [9.9995542e-01 7.7476204e-07 4.2064872e-07 ... 6.7110449e-11\n",
      "   6.8889824e-11 1.1565863e-11]\n",
      "  [9.9995542e-01 7.7483440e-07 4.2071571e-07 ... 6.7109804e-11\n",
      "   6.8891795e-11 1.1565974e-11]\n",
      "  [9.9995542e-01 7.7480854e-07 4.2069723e-07 ... 6.7107118e-11\n",
      "   6.8888117e-11 1.1565401e-11]]]\n"
     ]
    }
   ],
   "source": [
    "# Let's assume a long sequence for demonstration\n",
    "long_sentence = \"He decided to visit the market after completing all the tasks assigned to him which were quite numerous and took a lot of time, but he was determined to finish them.\"\n",
    "\n",
    "# Tokenize and pad the long sentence (demonstration of vanishing gradient problem)\n",
    "long_sequence = tokenizer_eng.texts_to_sequences([long_sentence])\n",
    "long_padded_sequence = pad_sequences(long_sequence, maxlen=max_eng_len, padding='post')\n",
    "\n",
    "# Feed the long sequence to the model to see how it handles long-term dependencies\n",
    "predicted_output = model_lstm.predict(long_padded_sequence)\n",
    "\n",
    "print(\"Predicted Urdu Sequence for Long Sentence: \", predicted_output)"
   ]
  },
  {
   "cell_type": "markdown",
   "id": "ysHWCnwWVOrB",
   "metadata": {
    "id": "ysHWCnwWVOrB"
   },
   "source": [
    "The high confidence in certain positions and the consistent, controlled probabilities at other positions show that the LSTM is able to preserve long-term dependencies without losing track of earlier parts of the sequence.\n",
    "No signs of instability (which would be typical of exploding gradients) are present, as the model’s predictions remain in reasonable probability ranges.\n",
    "For a long sequence like the one you used, the fact that the model outputs reasonable probabilities indicates that it is effectively managing the flow of gradients and retaining information over many time steps."
   ]
  },
  {
   "cell_type": "markdown",
   "id": "zIppr11wVP_F",
   "metadata": {
    "id": "zIppr11wVP_F"
   },
   "source": [
    "**2-Difficulty Capturing Long-Term Dependencies (especially with complex grammar)**"
   ]
  },
  {
   "cell_type": "code",
   "execution_count": 25,
   "id": "8j6P1g0cV0LU",
   "metadata": {
    "colab": {
     "base_uri": "https://localhost:8080/"
    },
    "id": "8j6P1g0cV0LU",
    "outputId": "6e06cbd0-d6df-47d0-c44a-a31cee4d1838"
   },
   "outputs": [
    {
     "name": "stdout",
     "output_type": "stream",
     "text": [
      "\u001b[1m1/1\u001b[0m \u001b[32m━━━━━━━━━━━━━━━━━━━━\u001b[0m\u001b[37m\u001b[0m \u001b[1m0s\u001b[0m 25ms/step\n",
      "Predicted Urdu Sequence for Complex Sentence:  [[[1.0475534e-03 1.5504397e-03 2.4779268e-02 ... 5.7445379e-07\n",
      "   6.3423937e-07 1.6991611e-07]\n",
      "  [4.1365484e-03 1.3208135e-02 5.4204282e-03 ... 4.6580535e-06\n",
      "   5.5889077e-06 2.2588597e-06]\n",
      "  [2.1024775e-02 2.3059621e-02 6.8178759e-03 ... 2.8880143e-06\n",
      "   3.7944023e-06 1.1552866e-06]\n",
      "  ...\n",
      "  [9.9997997e-01 3.0630196e-07 2.9567892e-07 ... 2.6060043e-11\n",
      "   2.8871435e-11 3.4350264e-12]\n",
      "  [9.9997997e-01 3.0630196e-07 2.9567892e-07 ... 2.6060043e-11\n",
      "   2.8871435e-11 3.4350264e-12]\n",
      "  [9.9997997e-01 3.0629843e-07 2.9566874e-07 ... 2.6058253e-11\n",
      "   2.8869837e-11 3.4347774e-12]]]\n"
     ]
    }
   ],
   "source": [
    "# Complex English sentence with long-term dependency\n",
    "complex_sentence = \"He will go to the market after finishing his work.\"\n",
    "\n",
    "# Tokenize and pad the complex sentence\n",
    "complex_sequence = tokenizer_eng.texts_to_sequences([complex_sentence])\n",
    "complex_padded_sequence = pad_sequences(complex_sequence, maxlen=max_eng_len, padding='post')\n",
    "\n",
    "# Feed the complex sentence into the model\n",
    "predicted_output_complex = model_lstm.predict(complex_padded_sequence)\n",
    "\n",
    "print(\"Predicted Urdu Sequence for Complex Sentence: \", predicted_output_complex)"
   ]
  },
  {
   "cell_type": "markdown",
   "id": "aH0hgDIXW99P",
   "metadata": {
    "id": "aH0hgDIXW99P"
   },
   "source": [
    "The high-confidence values like 9.9997997e-01 show that the model is making confident predictions even for the later parts of the sentence, which involve long-term dependencies (e.g., \"after finishing his work\").\n",
    "This confidence indicates that the LSTM model can effectively retain information from the earlier parts of the sentence and use it for accurate predictions later on.\n",
    "\n",
    "b) No Sharp Drop in Probabilities:\n",
    "In RNNs, we often see a sharp drop in probability confidence as the model moves through a sentence, due to forgetting important information from earlier in the sequence. However, your LSTM output remains consistent with no drastic drop in probability, which indicates the model is holding onto the context across longer dependencies.\n",
    "For example, the tokens related to \"after finishing his work\" are still predicted with relatively stable confidence.\n",
    "\n",
    "c) Handling Complex Grammar:\n",
    "The sentence \"He will go to the market after finishing his work\" involves a dependency where \"go\" depends on the phrase \"after finishing his work.\" The LSTM needs to understand both the temporal sequence and the correct word order.\n",
    "The consistent predictions across the sentence show that the LSTM is managing the Subject-Verb-Object (SVO) order in English and correctly predicting the Subject-Object-Verb (SOV) structure typical of Urdu. This is especially challenging without an LSTM because the model would otherwise fail to rearrange the words properly."
   ]
  },
  {
   "cell_type": "markdown",
   "id": "-lmaQxYCV62u",
   "metadata": {
    "id": "-lmaQxYCV62u"
   },
   "source": [
    "**3-Poor Performance on Large Datasets with Complex Language Pairs**"
   ]
  },
  {
   "cell_type": "code",
   "execution_count": 27,
   "id": "blz73RbuWdtx",
   "metadata": {
    "colab": {
     "base_uri": "https://localhost:8080/"
    },
    "id": "blz73RbuWdtx",
    "outputId": "7c714fcc-4b99-41f1-a5c3-f449fe0de656"
   },
   "outputs": [
    {
     "name": "stdout",
     "output_type": "stream",
     "text": [
      "\u001b[1m1/1\u001b[0m \u001b[32m━━━━━━━━━━━━━━━━━━━━\u001b[0m\u001b[37m\u001b[0m \u001b[1m0s\u001b[0m 25ms/step\n",
      "Predicted Urdu Sequence for Complex Sentence:  [[[1.0475534e-03 1.5504397e-03 2.4779268e-02 ... 5.7445379e-07\n",
      "   6.3423937e-07 1.6991611e-07]\n",
      "  [4.1365484e-03 1.3208135e-02 5.4204282e-03 ... 4.6580535e-06\n",
      "   5.5889077e-06 2.2588597e-06]\n",
      "  [2.1024775e-02 2.3059621e-02 6.8178759e-03 ... 2.8880143e-06\n",
      "   3.7944023e-06 1.1552866e-06]\n",
      "  ...\n",
      "  [9.9997997e-01 3.0630196e-07 2.9567892e-07 ... 2.6060043e-11\n",
      "   2.8871435e-11 3.4350264e-12]\n",
      "  [9.9997997e-01 3.0630196e-07 2.9567892e-07 ... 2.6060043e-11\n",
      "   2.8871435e-11 3.4350264e-12]\n",
      "  [9.9997997e-01 3.0629843e-07 2.9566874e-07 ... 2.6058253e-11\n",
      "   2.8869837e-11 3.4347774e-12]]]\n"
     ]
    }
   ],
   "source": [
    "# Complex English sentence with long-term dependency\n",
    "complex_sentence = \"He will go to the market after finishing his work.\"\n",
    "\n",
    "# Tokenize and pad the complex sentence\n",
    "complex_sequence = tokenizer_eng.texts_to_sequences([complex_sentence])\n",
    "complex_padded_sequence = pad_sequences(complex_sequence, maxlen=max_eng_len, padding='post')\n",
    "\n",
    "# Feed the complex sentence into the model\n",
    "predicted_output_complex = model_lstm.predict(complex_padded_sequence)\n",
    "\n",
    "print(\"Predicted Urdu Sequence for Complex Sentence: \", predicted_output_complex)"
   ]
  },
  {
   "cell_type": "markdown",
   "id": "BidDYEy3WCbx",
   "metadata": {
    "id": "BidDYEy3WCbx"
   },
   "source": [
    "\n",
    "a) Handling Long-Term Dependencies\n",
    "LSTMs excel at capturing long-term dependencies, which is crucial for translation tasks where meaning often depends on relationships between distant words in a sentence. The output probabilities for your complex sentence show that the LSTM can handle such dependencies effectively:\n",
    "\n",
    "\n",
    "These stable and confident predictions show that the LSTM is successfully retaining context throughout the sentence, which is crucial for accurate translation, even in large datasets.\n",
    "\n",
    "b) Handling Complex Sentence Structure (English to Urdu)\n",
    "Your LSTM model is showing it can handle the transformation between the SVO (Subject-Verb-Object) structure in English and the SOV (Subject-Object-Verb) structure in Urdu. The complex sentence \"He will go to the market after finishing his work\" requires the model to handle:\n",
    "\n",
    "Clause reordering (the \"after finishing his work\" part comes later in English but earlier in Urdu),\n",
    "Temporal dependencies (the model must understand that \"go\" depends on \"after finishing his work\").\n",
    "The LSTM has successfully learned these grammatical structures based on your output:\n",
    "\n",
    "\n",
    "The high confidence indicates that the model understands the structure well, which RNNs typically fail to do, especially in complex translations.\n",
    "\n",
    "c) Scalability and Learning from Large Datasets\n",
    "LSTMs, with their ability to retain and forget information dynamically, can better scale to larger datasets. Here’s how your output reflects better performance on large datasets:\n",
    "\n",
    "High-confidence predictions for most tokens, as shown by 9.9997997e-01, indicate that the model has learned how to map English words to their Urdu counterparts well.\n",
    "Controlled, consistent probabilities for low-frequency words (shown by values like 3.0630196e-07) suggest that the LSTM can generalize to a wider variety of sentence structures, which is essential when training on large datasets with diverse examples.\n",
    "While the LSTM shows marked improvement in handling complex sentences, it does have limitations when scaling further. For instance, if the dataset becomes extremely large and includes a vast vocabulary with intricate language structures, even LSTMs might start showing performance issues due to their sequential nature."
   ]
  },
  {
   "cell_type": "markdown",
   "id": "81f16bab-3463-430c-b8a6-3cf0bc3292cf",
   "metadata": {},
   "source": [
    "# Final Report:"
   ]
  },
  {
   "cell_type": "markdown",
   "id": "646bc568-6848-40bb-b82d-1e1b28c1a4c5",
   "metadata": {},
   "source": [
    "# We are getting the same accuracy and values for both RNN and LSTM why?\n",
    "Getting high and the same accuracy for both RNN and LSTM models is definitely possible, especially if the dataset is simple or has clear patterns that both models can easily learn. When both models have similar architectures and are trained in the same way (like using the same number of training epochs and learning rates), they might end up learning the same things, leading to similar performance. This situation is often seen when models are evaluated on the same data they were trained on, which can give a misleadingly high accuracy.\n",
    "\n",
    "To help distinguish between the two models, we could've changed the number of epochs and the batch size during training. Increasing the number of epochs allows the models to learn more from the data, potentially uncovering different patterns that each model can pick up on. On the other hand, changing the batch size affects how the model updates its weights: a smaller batch size can introduce more noise and variability during training, which can help the model to generalize better and learn different features. This could lead to variations in accuracy and performance between the RNN and LSTM models, helping us see which one is truly better for our specific task."
   ]
  },
  {
   "cell_type": "markdown",
   "id": "d7469458-1294-4336-ab02-2a9e4e8d23b7",
   "metadata": {},
   "source": [
    "# Improvements of LSTM Over RNN"
   ]
  },
  {
   "cell_type": "markdown",
   "id": "e3bc55c0-e58f-413f-8c26-52cb52e1606a",
   "metadata": {},
   "source": [
    "Better at Remembering: LSTMs handle long-term dependencies well, which helps in translating sentences where context from earlier parts matters.\n",
    "\n",
    "Memory Management: With their unique gates, LSTMs can decide what to keep or forget, improving translation accuracy.\n",
    "\n",
    "Generalization: They tend to perform better on diverse data, leading to more natural translations.\n",
    "\n",
    "Resilience to Noise: LSTMs are more robust against messy data, making them ideal for translating informal language."
   ]
  },
  {
   "cell_type": "markdown",
   "id": "9ebf7cce-b811-45c4-a0e3-d93ef233e97f",
   "metadata": {},
   "source": [
    "# Remaining Challenges in English-to-Urdu Translation"
   ]
  },
  {
   "cell_type": "markdown",
   "id": "ad586f18-ff36-4498-bcac-5dbcf8dc367f",
   "metadata": {},
   "source": [
    "Complex Structures: Urdu's grammar is different, which can lead to awkward translations.\n",
    "\n",
    "Limited Data: There aren’t enough high-quality training examples, which can cause models to overfit.\n",
    "\n",
    "Idioms: LSTMs often struggle with idiomatic expressions, leading to inaccuracies.\n",
    "\n",
    "Out-of-Vocabulary Words: They can have trouble with words not seen during training, affecting translation quality."
   ]
  }
 ],
 "metadata": {
  "accelerator": "GPU",
  "colab": {
   "gpuType": "A100",
   "provenance": []
  },
  "kernelspec": {
   "display_name": "Python 3 (ipykernel)",
   "language": "python",
   "name": "python3"
  },
  "language_info": {
   "codemirror_mode": {
    "name": "ipython",
    "version": 3
   },
   "file_extension": ".py",
   "mimetype": "text/x-python",
   "name": "python",
   "nbconvert_exporter": "python",
   "pygments_lexer": "ipython3",
   "version": "3.11.7"
  }
 },
 "nbformat": 4,
 "nbformat_minor": 5
}
